{
  "nbformat": 4,
  "nbformat_minor": 0,
  "metadata": {
    "colab": {
      "name": "Classification of NPS Single Label FastAI Fangyijie.ipynb",
      "provenance": [],
      "collapsed_sections": []
    },
    "language_info": {
      "codemirror_mode": {
        "name": "ipython",
        "version": 3
      },
      "file_extension": ".py",
      "mimetype": "text/x-python",
      "name": "python",
      "nbconvert_exporter": "python",
      "pygments_lexer": "ipython3",
      "version": "3.6.8"
    },
    "kernelspec": {
      "name": "python3",
      "display_name": "Python 3"
    },
    "accelerator": "GPU"
  },
  "cells": [
    {
      "cell_type": "markdown",
      "metadata": {
        "id": "i9_FxleO3Tdv"
      },
      "source": [
        "# Classification of NPS using ULMFit Model"
      ]
    },
    {
      "cell_type": "markdown",
      "metadata": {
        "id": "pl3LzrCN3Tdv"
      },
      "source": [
        "## ULMFit Model Architecture"
      ]
    },
    {
      "cell_type": "markdown",
      "metadata": {
        "id": "3p0adtSS3Tdv"
      },
      "source": [
        "## Data"
      ]
    },
    {
      "cell_type": "code",
      "metadata": {
        "id": "rWXZ53GK2Eu1",
        "outputId": "9644c94c-5eef-40a4-a19d-063e51459dec",
        "colab": {
          "base_uri": "https://localhost:8080/",
          "height": 53
        }
      },
      "source": [
        "# Code to read csv file into Colaboratory:\n",
        "!pip install -U -q PyDrive"
      ],
      "execution_count": null,
      "outputs": [
        {
          "output_type": "stream",
          "text": [
            "\u001b[?25l\r\u001b[K     |▎                               | 10kB 20.3MB/s eta 0:00:01\r\u001b[K     |▋                               | 20kB 4.7MB/s eta 0:00:01\r\u001b[K     |█                               | 30kB 6.8MB/s eta 0:00:01\r\u001b[K     |█▎                              | 40kB 4.1MB/s eta 0:00:01\r\u001b[K     |█▋                              | 51kB 5.0MB/s eta 0:00:01\r\u001b[K     |██                              | 61kB 5.9MB/s eta 0:00:01\r\u001b[K     |██▎                             | 71kB 6.8MB/s eta 0:00:01\r\u001b[K     |██▋                             | 81kB 7.6MB/s eta 0:00:01\r\u001b[K     |███                             | 92kB 8.4MB/s eta 0:00:01\r\u001b[K     |███▎                            | 102kB 6.6MB/s eta 0:00:01\r\u001b[K     |███▋                            | 112kB 6.6MB/s eta 0:00:01\r\u001b[K     |████                            | 122kB 6.6MB/s eta 0:00:01\r\u001b[K     |████▎                           | 133kB 6.6MB/s eta 0:00:01\r\u001b[K     |████▋                           | 143kB 6.6MB/s eta 0:00:01\r\u001b[K     |█████                           | 153kB 6.6MB/s eta 0:00:01\r\u001b[K     |█████▎                          | 163kB 6.6MB/s eta 0:00:01\r\u001b[K     |█████▋                          | 174kB 6.6MB/s eta 0:00:01\r\u001b[K     |██████                          | 184kB 6.6MB/s eta 0:00:01\r\u001b[K     |██████▎                         | 194kB 6.6MB/s eta 0:00:01\r\u001b[K     |██████▋                         | 204kB 6.6MB/s eta 0:00:01\r\u001b[K     |███████                         | 215kB 6.6MB/s eta 0:00:01\r\u001b[K     |███████▎                        | 225kB 6.6MB/s eta 0:00:01\r\u001b[K     |███████▋                        | 235kB 6.6MB/s eta 0:00:01\r\u001b[K     |████████                        | 245kB 6.6MB/s eta 0:00:01\r\u001b[K     |████████▎                       | 256kB 6.6MB/s eta 0:00:01\r\u001b[K     |████████▋                       | 266kB 6.6MB/s eta 0:00:01\r\u001b[K     |█████████                       | 276kB 6.6MB/s eta 0:00:01\r\u001b[K     |█████████▎                      | 286kB 6.6MB/s eta 0:00:01\r\u001b[K     |█████████▋                      | 296kB 6.6MB/s eta 0:00:01\r\u001b[K     |██████████                      | 307kB 6.6MB/s eta 0:00:01\r\u001b[K     |██████████▎                     | 317kB 6.6MB/s eta 0:00:01\r\u001b[K     |██████████▋                     | 327kB 6.6MB/s eta 0:00:01\r\u001b[K     |███████████                     | 337kB 6.6MB/s eta 0:00:01\r\u001b[K     |███████████▎                    | 348kB 6.6MB/s eta 0:00:01\r\u001b[K     |███████████▋                    | 358kB 6.6MB/s eta 0:00:01\r\u001b[K     |████████████                    | 368kB 6.6MB/s eta 0:00:01\r\u001b[K     |████████████▎                   | 378kB 6.6MB/s eta 0:00:01\r\u001b[K     |████████████▋                   | 389kB 6.6MB/s eta 0:00:01\r\u001b[K     |█████████████                   | 399kB 6.6MB/s eta 0:00:01\r\u001b[K     |█████████████▎                  | 409kB 6.6MB/s eta 0:00:01\r\u001b[K     |█████████████▋                  | 419kB 6.6MB/s eta 0:00:01\r\u001b[K     |██████████████                  | 430kB 6.6MB/s eta 0:00:01\r\u001b[K     |██████████████▎                 | 440kB 6.6MB/s eta 0:00:01\r\u001b[K     |██████████████▋                 | 450kB 6.6MB/s eta 0:00:01\r\u001b[K     |███████████████                 | 460kB 6.6MB/s eta 0:00:01\r\u001b[K     |███████████████▎                | 471kB 6.6MB/s eta 0:00:01\r\u001b[K     |███████████████▋                | 481kB 6.6MB/s eta 0:00:01\r\u001b[K     |████████████████                | 491kB 6.6MB/s eta 0:00:01\r\u001b[K     |████████████████▎               | 501kB 6.6MB/s eta 0:00:01\r\u001b[K     |████████████████▋               | 512kB 6.6MB/s eta 0:00:01\r\u001b[K     |█████████████████               | 522kB 6.6MB/s eta 0:00:01\r\u001b[K     |█████████████████▎              | 532kB 6.6MB/s eta 0:00:01\r\u001b[K     |█████████████████▋              | 542kB 6.6MB/s eta 0:00:01\r\u001b[K     |██████████████████              | 552kB 6.6MB/s eta 0:00:01\r\u001b[K     |██████████████████▎             | 563kB 6.6MB/s eta 0:00:01\r\u001b[K     |██████████████████▋             | 573kB 6.6MB/s eta 0:00:01\r\u001b[K     |███████████████████             | 583kB 6.6MB/s eta 0:00:01\r\u001b[K     |███████████████████▎            | 593kB 6.6MB/s eta 0:00:01\r\u001b[K     |███████████████████▋            | 604kB 6.6MB/s eta 0:00:01\r\u001b[K     |████████████████████            | 614kB 6.6MB/s eta 0:00:01\r\u001b[K     |████████████████████▎           | 624kB 6.6MB/s eta 0:00:01\r\u001b[K     |████████████████████▋           | 634kB 6.6MB/s eta 0:00:01\r\u001b[K     |█████████████████████           | 645kB 6.6MB/s eta 0:00:01\r\u001b[K     |█████████████████████▎          | 655kB 6.6MB/s eta 0:00:01\r\u001b[K     |█████████████████████▋          | 665kB 6.6MB/s eta 0:00:01\r\u001b[K     |██████████████████████          | 675kB 6.6MB/s eta 0:00:01\r\u001b[K     |██████████████████████▎         | 686kB 6.6MB/s eta 0:00:01\r\u001b[K     |██████████████████████▋         | 696kB 6.6MB/s eta 0:00:01\r\u001b[K     |███████████████████████         | 706kB 6.6MB/s eta 0:00:01\r\u001b[K     |███████████████████████▎        | 716kB 6.6MB/s eta 0:00:01\r\u001b[K     |███████████████████████▋        | 727kB 6.6MB/s eta 0:00:01\r\u001b[K     |████████████████████████        | 737kB 6.6MB/s eta 0:00:01\r\u001b[K     |████████████████████████▎       | 747kB 6.6MB/s eta 0:00:01\r\u001b[K     |████████████████████████▋       | 757kB 6.6MB/s eta 0:00:01\r\u001b[K     |████████████████████████▉       | 768kB 6.6MB/s eta 0:00:01\r\u001b[K     |█████████████████████████▏      | 778kB 6.6MB/s eta 0:00:01\r\u001b[K     |█████████████████████████▌      | 788kB 6.6MB/s eta 0:00:01\r\u001b[K     |█████████████████████████▉      | 798kB 6.6MB/s eta 0:00:01\r\u001b[K     |██████████████████████████▏     | 808kB 6.6MB/s eta 0:00:01\r\u001b[K     |██████████████████████████▌     | 819kB 6.6MB/s eta 0:00:01\r\u001b[K     |██████████████████████████▉     | 829kB 6.6MB/s eta 0:00:01\r\u001b[K     |███████████████████████████▏    | 839kB 6.6MB/s eta 0:00:01\r\u001b[K     |███████████████████████████▌    | 849kB 6.6MB/s eta 0:00:01\r\u001b[K     |███████████████████████████▉    | 860kB 6.6MB/s eta 0:00:01\r\u001b[K     |████████████████████████████▏   | 870kB 6.6MB/s eta 0:00:01\r\u001b[K     |████████████████████████████▌   | 880kB 6.6MB/s eta 0:00:01\r\u001b[K     |████████████████████████████▉   | 890kB 6.6MB/s eta 0:00:01\r\u001b[K     |█████████████████████████████▏  | 901kB 6.6MB/s eta 0:00:01\r\u001b[K     |█████████████████████████████▌  | 911kB 6.6MB/s eta 0:00:01\r\u001b[K     |█████████████████████████████▉  | 921kB 6.6MB/s eta 0:00:01\r\u001b[K     |██████████████████████████████▏ | 931kB 6.6MB/s eta 0:00:01\r\u001b[K     |██████████████████████████████▌ | 942kB 6.6MB/s eta 0:00:01\r\u001b[K     |██████████████████████████████▉ | 952kB 6.6MB/s eta 0:00:01\r\u001b[K     |███████████████████████████████▏| 962kB 6.6MB/s eta 0:00:01\r\u001b[K     |███████████████████████████████▌| 972kB 6.6MB/s eta 0:00:01\r\u001b[K     |███████████████████████████████▉| 983kB 6.6MB/s eta 0:00:01\r\u001b[K     |████████████████████████████████| 993kB 6.6MB/s \n",
            "\u001b[?25h  Building wheel for PyDrive (setup.py) ... \u001b[?25l\u001b[?25hdone\n"
          ],
          "name": "stdout"
        }
      ]
    },
    {
      "cell_type": "code",
      "metadata": {
        "id": "I41KJ78o2LmW"
      },
      "source": [
        "from pydrive.auth import GoogleAuth\n",
        "from pydrive.drive import GoogleDrive\n",
        "from google.colab import auth\n",
        "from oauth2client.client import GoogleCredentials"
      ],
      "execution_count": null,
      "outputs": []
    },
    {
      "cell_type": "code",
      "metadata": {
        "id": "wPvm4wnK2E09"
      },
      "source": [
        "# Authenticate and create the PyDrive client.\n",
        "auth.authenticate_user()\n",
        "gauth = GoogleAuth()\n",
        "gauth.credentials = GoogleCredentials.get_application_default()\n",
        "drive = GoogleDrive(gauth)"
      ],
      "execution_count": null,
      "outputs": []
    },
    {
      "cell_type": "code",
      "metadata": {
        "id": "0vdOl8Ie2E67",
        "outputId": "c1bf448b-7a46-4a61-d169-44922edcb18c",
        "colab": {
          "base_uri": "https://localhost:8080/",
          "height": 35
        }
      },
      "source": [
        "link = 'https://drive.google.com/open?id=17o-x0aaMYhxwPKSV6fcNz96lulbVCG5r' # The shareable link\n",
        "fluff, id = link.split('=')\n",
        "print (id) # Verify that you have everything after '='"
      ],
      "execution_count": null,
      "outputs": [
        {
          "output_type": "stream",
          "text": [
            "17o-x0aaMYhxwPKSV6fcNz96lulbVCG5r\n"
          ],
          "name": "stdout"
        }
      ]
    },
    {
      "cell_type": "code",
      "metadata": {
        "id": "FxYumAv-2_6F"
      },
      "source": [
        "%matplotlib inline\n",
        "import pandas as pd\n",
        "import numpy as np\n",
        "import csv\n",
        "from sklearn.model_selection import train_test_split"
      ],
      "execution_count": null,
      "outputs": []
    },
    {
      "cell_type": "code",
      "metadata": {
        "id": "im5lryWX2zdt",
        "outputId": "ee960b77-0c5a-47d4-98c8-547b536680ba",
        "colab": {
          "base_uri": "https://localhost:8080/",
          "height": 53
        }
      },
      "source": [
        "downloaded = drive.CreateFile({'id':id}) \n",
        "downloaded.GetContentFile('NPS raw data.txt')  \n",
        "data = pd.read_csv('NPS raw data.txt', header=0, encoding='utf-8',delimiter='|')"
      ],
      "execution_count": null,
      "outputs": [
        {
          "output_type": "stream",
          "text": [
            "/usr/local/lib/python3.6/dist-packages/IPython/core/interactiveshell.py:2718: DtypeWarning: Columns (6) have mixed types. Specify dtype option on import or set low_memory=False.\n",
            "  interactivity=interactivity, compiler=compiler, result=result)\n"
          ],
          "name": "stderr"
        }
      ]
    },
    {
      "cell_type": "code",
      "metadata": {
        "id": "__vz8JdlVhhC",
        "outputId": "270e7aeb-0f57-4484-91e6-b56837fb6704",
        "colab": {
          "resources": {
            "http://localhost:8080/nbextensions/google.colab/files.js": {
              "data": "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",
              "ok": true,
              "headers": [
                [
                  "content-type",
                  "application/javascript"
                ]
              ],
              "status": 200,
              "status_text": ""
            }
          },
          "base_uri": "https://localhost:8080/",
          "height": 75
        }
      },
      "source": [
        "from google.colab import files\n",
        "uploaded = files.upload()"
      ],
      "execution_count": null,
      "outputs": [
        {
          "output_type": "display_data",
          "data": {
            "text/html": [
              "\n",
              "     <input type=\"file\" id=\"files-75ad3c49-7c3a-40ca-8f61-326325140c01\" name=\"files[]\" multiple disabled />\n",
              "     <output id=\"result-75ad3c49-7c3a-40ca-8f61-326325140c01\">\n",
              "      Upload widget is only available when the cell has been executed in the\n",
              "      current browser session. Please rerun this cell to enable.\n",
              "      </output>\n",
              "      <script src=\"/nbextensions/google.colab/files.js\"></script> "
            ],
            "text/plain": [
              "<IPython.core.display.HTML object>"
            ]
          },
          "metadata": {
            "tags": []
          }
        },
        {
          "output_type": "stream",
          "text": [
            "Saving all_verbatim_less_category.csv to all_verbatim_less_category.csv\n"
          ],
          "name": "stdout"
        }
      ]
    },
    {
      "cell_type": "code",
      "metadata": {
        "id": "jYar7S-s3Tdv"
      },
      "source": [
        "%matplotlib inline\n",
        "import pandas as pd\n",
        "import numpy as np\n",
        "import csv\n",
        "from sklearn.model_selection import train_test_split"
      ],
      "execution_count": null,
      "outputs": []
    },
    {
      "cell_type": "code",
      "metadata": {
        "id": "os3FZMMH3Tdv"
      },
      "source": [
        "#data = pd.read_csv('./dataset/nps_cleaned.csv', header=0, encoding='utf-8')\n",
        "#data = pd.read_csv('./nps_cleaned.csv', header=0, encoding='utf-8')\n",
        "#data = pd.read_csv('./NPS_all_comments.csv', header=0, encoding='utf-8')\n",
        "data = pd.read_csv('./all_verbatim_less_category.csv', header=0, encoding='utf-8')"
      ],
      "execution_count": null,
      "outputs": []
    },
    {
      "cell_type": "code",
      "metadata": {
        "id": "LtTlSzt33Tdv",
        "outputId": "bc25933a-94f7-4007-b061-f18fef55042b",
        "colab": {
          "base_uri": "https://localhost:8080/",
          "height": 352
        }
      },
      "source": [
        "data.head(5)"
      ],
      "execution_count": null,
      "outputs": [
        {
          "output_type": "execute_result",
          "data": {
            "text/html": [
              "<div>\n",
              "<style scoped>\n",
              "    .dataframe tbody tr th:only-of-type {\n",
              "        vertical-align: middle;\n",
              "    }\n",
              "\n",
              "    .dataframe tbody tr th {\n",
              "        vertical-align: top;\n",
              "    }\n",
              "\n",
              "    .dataframe thead th {\n",
              "        text-align: right;\n",
              "    }\n",
              "</style>\n",
              "<table border=\"1\" class=\"dataframe\">\n",
              "  <thead>\n",
              "    <tr style=\"text-align: right;\">\n",
              "      <th></th>\n",
              "      <th>Identity</th>\n",
              "      <th>Platform</th>\n",
              "      <th>AccountCountry</th>\n",
              "      <th>CustomerID</th>\n",
              "      <th>StartDate</th>\n",
              "      <th>EndDate</th>\n",
              "      <th>Recommend</th>\n",
              "      <th>Verbatim</th>\n",
              "      <th>Sentiment1</th>\n",
              "      <th>Cat1_1st_Level</th>\n",
              "      <th>Cat1_2nd_Level</th>\n",
              "      <th>Sentiment2</th>\n",
              "      <th>Cat2_1st_Level</th>\n",
              "      <th>Cat2_2nd_Level</th>\n",
              "      <th>Unnamed: 14</th>\n",
              "    </tr>\n",
              "  </thead>\n",
              "  <tbody>\n",
              "    <tr>\n",
              "      <th>0</th>\n",
              "      <td>866</td>\n",
              "      <td>\\tTelogis</td>\n",
              "      <td>\\t</td>\n",
              "      <td>\\t3e855154-e10d-11e7-8f10-065d6e9c3b17</td>\n",
              "      <td>\\tMar 20 2018  6:26PM</td>\n",
              "      <td>\\tMar 20 2018  6:26PM</td>\n",
              "      <td>\\t3</td>\n",
              "      <td>\\tIt is not dependable  - I cant trust that th...</td>\n",
              "      <td>\\tNEG</td>\n",
              "      <td>\\tReliability</td>\n",
              "      <td>\\tReports</td>\n",
              "      <td>\\t</td>\n",
              "      <td>\\t</td>\n",
              "      <td>\\t</td>\n",
              "      <td>NaN</td>\n",
              "    </tr>\n",
              "    <tr>\n",
              "      <th>1</th>\n",
              "      <td>888</td>\n",
              "      <td>\\tTelogis</td>\n",
              "      <td>\\t</td>\n",
              "      <td>\\te603441e-7b69-11e6-8629-06544a741b3f</td>\n",
              "      <td>\\tFeb  6 2018  6:10PM</td>\n",
              "      <td>\\tFeb  6 2018  6:11PM</td>\n",
              "      <td>\\t5</td>\n",
              "      <td>\\tno history to see where they drove</td>\n",
              "      <td>\\tNEG</td>\n",
              "      <td>\\tProduct Features</td>\n",
              "      <td>\\tLack of features</td>\n",
              "      <td>\\t</td>\n",
              "      <td>\\t</td>\n",
              "      <td>\\t</td>\n",
              "      <td>NaN</td>\n",
              "    </tr>\n",
              "    <tr>\n",
              "      <th>2</th>\n",
              "      <td>897</td>\n",
              "      <td>\\tTelogis</td>\n",
              "      <td>\\t</td>\n",
              "      <td>\\t624ea360-8d93-4ce2-bc7e-9360f91ac842</td>\n",
              "      <td>\\tMar 14 2018 12:45PM</td>\n",
              "      <td>\\tMar 14 2018 12:46PM</td>\n",
              "      <td>\\t4</td>\n",
              "      <td>\\tLogin page is confusing now....</td>\n",
              "      <td>\\tNEG</td>\n",
              "      <td>\\tUsability</td>\n",
              "      <td>\\tLogin</td>\n",
              "      <td>\\t</td>\n",
              "      <td>\\t</td>\n",
              "      <td>\\t</td>\n",
              "      <td>NaN</td>\n",
              "    </tr>\n",
              "    <tr>\n",
              "      <th>3</th>\n",
              "      <td>1008</td>\n",
              "      <td>\\tTelogis</td>\n",
              "      <td>\\t</td>\n",
              "      <td>\\t4f836fd7-c29d-461c-8366-3548dbfe5fbb</td>\n",
              "      <td>\\tMar  6 2018  5:40PM</td>\n",
              "      <td>\\tMar  6 2018  5:40PM</td>\n",
              "      <td>\\t2</td>\n",
              "      <td>\\tnot user friendly</td>\n",
              "      <td>\\tNEG</td>\n",
              "      <td>\\tUsability</td>\n",
              "      <td>\\tGeneric</td>\n",
              "      <td>\\t</td>\n",
              "      <td>\\t</td>\n",
              "      <td>\\t</td>\n",
              "      <td>NaN</td>\n",
              "    </tr>\n",
              "    <tr>\n",
              "      <th>4</th>\n",
              "      <td>1011</td>\n",
              "      <td>\\tTelogis</td>\n",
              "      <td>\\t</td>\n",
              "      <td>\\tf26854da-6d92-11e7-8082-065d6e9c3b17</td>\n",
              "      <td>\\tMar  8 2018  2:37PM</td>\n",
              "      <td>\\tMar  8 2018  2:38PM</td>\n",
              "      <td>\\t4</td>\n",
              "      <td>\\tNot as accurate</td>\n",
              "      <td>\\tNEG</td>\n",
              "      <td>\\tReliability</td>\n",
              "      <td>\\tGeneric</td>\n",
              "      <td>\\t</td>\n",
              "      <td>\\t</td>\n",
              "      <td>\\t</td>\n",
              "      <td>NaN</td>\n",
              "    </tr>\n",
              "  </tbody>\n",
              "</table>\n",
              "</div>"
            ],
            "text/plain": [
              "   Identity   Platform  ... Cat2_2nd_Level Unnamed: 14\n",
              "0       866  \\tTelogis  ...             \\t         NaN\n",
              "1       888  \\tTelogis  ...             \\t         NaN\n",
              "2       897  \\tTelogis  ...             \\t         NaN\n",
              "3      1008  \\tTelogis  ...             \\t         NaN\n",
              "4      1011  \\tTelogis  ...             \\t         NaN\n",
              "\n",
              "[5 rows x 15 columns]"
            ]
          },
          "metadata": {
            "tags": []
          },
          "execution_count": 23
        }
      ]
    },
    {
      "cell_type": "code",
      "metadata": {
        "id": "nSvuBcGPFmGW"
      },
      "source": [
        "data['Verbatim'] = data['Verbatim'].str.replace('\\t','')\n",
        "data['Cat1_1st_Level'] = data['Cat1_1st_Level'].str.replace('\\t','')"
      ],
      "execution_count": null,
      "outputs": []
    },
    {
      "cell_type": "code",
      "metadata": {
        "id": "IdaTvZNd3Tdv",
        "outputId": "6176836d-cbd5-4da4-e042-85c2bb0a65a2",
        "colab": {
          "base_uri": "https://localhost:8080/",
          "height": 197
        }
      },
      "source": [
        "data[['Verbatim','Cat1_1st_Level']].head(5)"
      ],
      "execution_count": null,
      "outputs": [
        {
          "output_type": "execute_result",
          "data": {
            "text/html": [
              "<div>\n",
              "<style scoped>\n",
              "    .dataframe tbody tr th:only-of-type {\n",
              "        vertical-align: middle;\n",
              "    }\n",
              "\n",
              "    .dataframe tbody tr th {\n",
              "        vertical-align: top;\n",
              "    }\n",
              "\n",
              "    .dataframe thead th {\n",
              "        text-align: right;\n",
              "    }\n",
              "</style>\n",
              "<table border=\"1\" class=\"dataframe\">\n",
              "  <thead>\n",
              "    <tr style=\"text-align: right;\">\n",
              "      <th></th>\n",
              "      <th>Verbatim</th>\n",
              "      <th>Cat1_1st_Level</th>\n",
              "    </tr>\n",
              "  </thead>\n",
              "  <tbody>\n",
              "    <tr>\n",
              "      <th>0</th>\n",
              "      <td>It is not dependable  - I cant trust that the ...</td>\n",
              "      <td>reliability</td>\n",
              "    </tr>\n",
              "    <tr>\n",
              "      <th>1</th>\n",
              "      <td>no history to see where they drove</td>\n",
              "      <td>product features</td>\n",
              "    </tr>\n",
              "    <tr>\n",
              "      <th>2</th>\n",
              "      <td>Login page is confusing now....</td>\n",
              "      <td>usability</td>\n",
              "    </tr>\n",
              "    <tr>\n",
              "      <th>3</th>\n",
              "      <td>not user friendly</td>\n",
              "      <td>usability</td>\n",
              "    </tr>\n",
              "    <tr>\n",
              "      <th>4</th>\n",
              "      <td>Not as accurate</td>\n",
              "      <td>reliability</td>\n",
              "    </tr>\n",
              "  </tbody>\n",
              "</table>\n",
              "</div>"
            ],
            "text/plain": [
              "                                            Verbatim    Cat1_1st_Level\n",
              "0  It is not dependable  - I cant trust that the ...       reliability\n",
              "1                 no history to see where they drove  product features\n",
              "2                    Login page is confusing now....         usability\n",
              "3                                  not user friendly         usability\n",
              "4                                    Not as accurate       reliability"
            ]
          },
          "metadata": {
            "tags": []
          },
          "execution_count": 35
        }
      ]
    },
    {
      "cell_type": "code",
      "metadata": {
        "id": "THVaAVwjF5Tz"
      },
      "source": [
        "data['Cat1_1st_Level'].str.lower().unique()\n",
        "data['Cat1_1st_Level'] = data['Cat1_1st_Level'].str.lower()"
      ],
      "execution_count": null,
      "outputs": []
    },
    {
      "cell_type": "code",
      "metadata": {
        "id": "-Qn14DZf3Tdv"
      },
      "source": [
        "main_categories =   ['reliability', 'product features', 'usability', 'performance', 'contract', 'customer support', 'customer success']"
      ],
      "execution_count": null,
      "outputs": []
    },
    {
      "cell_type": "code",
      "metadata": {
        "id": "gKEolLC9HHK9"
      },
      "source": [
        "data = data[['Verbatim','Cat1_1st_Level']]"
      ],
      "execution_count": null,
      "outputs": []
    },
    {
      "cell_type": "markdown",
      "metadata": {
        "id": "6MPnIyxy3Td_"
      },
      "source": [
        "### Splitting data into labels and features"
      ]
    },
    {
      "cell_type": "markdown",
      "metadata": {
        "id": "QQvFJfZX3Td_"
      },
      "source": [
        "Labels are the data which we want to predict and features are the data which are used to predict labels."
      ]
    },
    {
      "cell_type": "code",
      "metadata": {
        "id": "JU2fPezJ3Td_"
      },
      "source": [
        "# delete duplicate verbatim\n",
        "data.drop_duplicates(keep=False,inplace=True)"
      ],
      "execution_count": null,
      "outputs": []
    },
    {
      "cell_type": "code",
      "metadata": {
        "id": "_lMZx4Q16Ye1"
      },
      "source": [
        "y = data['category'].str.lower()\n",
        "X = data['Verbatim']\n",
        "data = pd.DataFrame(y).join(pd.DataFrame(X))\n",
        "data.to_csv('./data.csv', index=False, header=True)"
      ],
      "execution_count": null,
      "outputs": []
    },
    {
      "cell_type": "code",
      "metadata": {
        "id": "mWqxniwd3TeP",
        "outputId": "c9b9f7ce-e3c7-4d60-db38-a4286ab5bb47",
        "colab": {
          "base_uri": "https://localhost:8080/",
          "height": 287
        }
      },
      "source": [
        "df_stats = data.groupby(['Cat1_1st_Level']).count()\n",
        "df_stats.columns = ['count']\n",
        "df_stats"
      ],
      "execution_count": null,
      "outputs": [
        {
          "output_type": "execute_result",
          "data": {
            "text/html": [
              "<div>\n",
              "<style scoped>\n",
              "    .dataframe tbody tr th:only-of-type {\n",
              "        vertical-align: middle;\n",
              "    }\n",
              "\n",
              "    .dataframe tbody tr th {\n",
              "        vertical-align: top;\n",
              "    }\n",
              "\n",
              "    .dataframe thead th {\n",
              "        text-align: right;\n",
              "    }\n",
              "</style>\n",
              "<table border=\"1\" class=\"dataframe\">\n",
              "  <thead>\n",
              "    <tr style=\"text-align: right;\">\n",
              "      <th></th>\n",
              "      <th>count</th>\n",
              "    </tr>\n",
              "    <tr>\n",
              "      <th>Cat1_1st_Level</th>\n",
              "      <th></th>\n",
              "    </tr>\n",
              "  </thead>\n",
              "  <tbody>\n",
              "    <tr>\n",
              "      <th>contract</th>\n",
              "      <td>3680</td>\n",
              "    </tr>\n",
              "    <tr>\n",
              "      <th>customer success</th>\n",
              "      <td>405</td>\n",
              "    </tr>\n",
              "    <tr>\n",
              "      <th>customer support</th>\n",
              "      <td>4118</td>\n",
              "    </tr>\n",
              "    <tr>\n",
              "      <th>performance</th>\n",
              "      <td>4239</td>\n",
              "    </tr>\n",
              "    <tr>\n",
              "      <th>product features</th>\n",
              "      <td>29756</td>\n",
              "    </tr>\n",
              "    <tr>\n",
              "      <th>reliability</th>\n",
              "      <td>20104</td>\n",
              "    </tr>\n",
              "    <tr>\n",
              "      <th>usability</th>\n",
              "      <td>14052</td>\n",
              "    </tr>\n",
              "  </tbody>\n",
              "</table>\n",
              "</div>"
            ],
            "text/plain": [
              "                  count\n",
              "Cat1_1st_Level         \n",
              "contract           3680\n",
              "customer success    405\n",
              "customer support   4118\n",
              "performance        4239\n",
              "product features  29756\n",
              "reliability       20104\n",
              "usability         14052"
            ]
          },
          "metadata": {
            "tags": []
          },
          "execution_count": 39
        }
      ]
    },
    {
      "cell_type": "code",
      "metadata": {
        "id": "GaXZMzOz3TeP",
        "outputId": "ac6e5ab5-4140-4c96-e7df-de19890e2c5c",
        "colab": {
          "base_uri": "https://localhost:8080/",
          "height": 144
        }
      },
      "source": [
        "main_categories.sort()\n",
        "main_categories"
      ],
      "execution_count": null,
      "outputs": [
        {
          "output_type": "execute_result",
          "data": {
            "text/plain": [
              "['contract',\n",
              " 'customer success',\n",
              " 'customer support',\n",
              " 'performance',\n",
              " 'product features',\n",
              " 'reliability',\n",
              " 'usability']"
            ]
          },
          "metadata": {
            "tags": []
          },
          "execution_count": 42
        }
      ]
    },
    {
      "cell_type": "code",
      "metadata": {
        "id": "qr1HCur43TeP",
        "outputId": "1f8d7020-ea65-4e43-e348-77b53cdf9b29",
        "colab": {
          "base_uri": "https://localhost:8080/",
          "height": 287
        }
      },
      "source": [
        "df_stats['category'] = main_categories\n",
        "df_stats"
      ],
      "execution_count": null,
      "outputs": [
        {
          "output_type": "execute_result",
          "data": {
            "text/html": [
              "<div>\n",
              "<style scoped>\n",
              "    .dataframe tbody tr th:only-of-type {\n",
              "        vertical-align: middle;\n",
              "    }\n",
              "\n",
              "    .dataframe tbody tr th {\n",
              "        vertical-align: top;\n",
              "    }\n",
              "\n",
              "    .dataframe thead th {\n",
              "        text-align: right;\n",
              "    }\n",
              "</style>\n",
              "<table border=\"1\" class=\"dataframe\">\n",
              "  <thead>\n",
              "    <tr style=\"text-align: right;\">\n",
              "      <th></th>\n",
              "      <th>count</th>\n",
              "      <th>category</th>\n",
              "    </tr>\n",
              "    <tr>\n",
              "      <th>Cat1_1st_Level</th>\n",
              "      <th></th>\n",
              "      <th></th>\n",
              "    </tr>\n",
              "  </thead>\n",
              "  <tbody>\n",
              "    <tr>\n",
              "      <th>contract</th>\n",
              "      <td>3680</td>\n",
              "      <td>contract</td>\n",
              "    </tr>\n",
              "    <tr>\n",
              "      <th>customer success</th>\n",
              "      <td>405</td>\n",
              "      <td>customer success</td>\n",
              "    </tr>\n",
              "    <tr>\n",
              "      <th>customer support</th>\n",
              "      <td>4118</td>\n",
              "      <td>customer support</td>\n",
              "    </tr>\n",
              "    <tr>\n",
              "      <th>performance</th>\n",
              "      <td>4239</td>\n",
              "      <td>performance</td>\n",
              "    </tr>\n",
              "    <tr>\n",
              "      <th>product features</th>\n",
              "      <td>29756</td>\n",
              "      <td>product features</td>\n",
              "    </tr>\n",
              "    <tr>\n",
              "      <th>reliability</th>\n",
              "      <td>20104</td>\n",
              "      <td>reliability</td>\n",
              "    </tr>\n",
              "    <tr>\n",
              "      <th>usability</th>\n",
              "      <td>14052</td>\n",
              "      <td>usability</td>\n",
              "    </tr>\n",
              "  </tbody>\n",
              "</table>\n",
              "</div>"
            ],
            "text/plain": [
              "                  count          category\n",
              "Cat1_1st_Level                           \n",
              "contract           3680          contract\n",
              "customer success    405  customer success\n",
              "customer support   4118  customer support\n",
              "performance        4239       performance\n",
              "product features  29756  product features\n",
              "reliability       20104       reliability\n",
              "usability         14052         usability"
            ]
          },
          "metadata": {
            "tags": []
          },
          "execution_count": 43
        }
      ]
    },
    {
      "cell_type": "code",
      "metadata": {
        "id": "KqFTMBFZ3TeP",
        "outputId": "e61fd83c-a069-4899-b764-28f38bf263fe",
        "colab": {
          "base_uri": "https://localhost:8080/",
          "height": 435
        }
      },
      "source": [
        "df_stats.plot(x = 'category', \n",
        "              y = 'count', \n",
        "              kind = 'bar', \n",
        "              legend = False, \n",
        "              grid = True, \n",
        "              figsize = (8,5))"
      ],
      "execution_count": null,
      "outputs": [
        {
          "output_type": "execute_result",
          "data": {
            "text/plain": [
              "<matplotlib.axes._subplots.AxesSubplot at 0x7f8c8b8f6358>"
            ]
          },
          "metadata": {
            "tags": []
          },
          "execution_count": 44
        },
        {
          "output_type": "display_data",
          "data": {
            "image/png": "[encoded data removed]",
            "text/plain": [
              "<Figure size 576x360 with 1 Axes>"
            ]
          },
          "metadata": {
            "tags": []
          }
        }
      ]
    },
    {
      "cell_type": "markdown",
      "metadata": {
        "id": "8iUd3dq63TeP"
      },
      "source": [
        "### Pretrained language models"
      ]
    },
    {
      "cell_type": "markdown",
      "metadata": {
        "id": "CdoJwr_l3TeP"
      },
      "source": [
        "ULMFit uses its own pretrained language model wikitext-103 that can be conveniently downloaded from the fastai database hosted on AWS."
      ]
    },
    {
      "cell_type": "markdown",
      "metadata": {
        "id": "I4QB454u3TeP"
      },
      "source": [
        "### Preprocess training data"
      ]
    },
    {
      "cell_type": "code",
      "metadata": {
        "id": "QdfZ6M3b3TeP",
        "outputId": "df7776a1-96d4-42a9-ec2d-826dc6dbe3be",
        "colab": {
          "base_uri": "https://localhost:8080/",
          "height": 53
        }
      },
      "source": [
        "# Check that the latest 1.0.0 build of PyTorch has been installed \n",
        "# alongside fastai\n",
        "import torch\n",
        "print(\"Cuda available\" if torch.cuda.is_available() is True else \"CPU\")\n",
        "print(\"PyTorch version: \", torch.__version__)"
      ],
      "execution_count": null,
      "outputs": [
        {
          "output_type": "stream",
          "text": [
            "Cuda available\n",
            "PyTorch version:  1.1.0\n"
          ],
          "name": "stdout"
        }
      ]
    },
    {
      "cell_type": "code",
      "metadata": {
        "id": "3VFBEWUo7eud"
      },
      "source": [
        "from fastai import *\n",
        "from fastai.text import *\n",
        "path = './'"
      ],
      "execution_count": null,
      "outputs": []
    },
    {
      "cell_type": "code",
      "metadata": {
        "id": "wVUN24prIjVG",
        "outputId": "2b33344c-1d4c-43a2-a0e2-d2cbd4529da5",
        "colab": {
          "base_uri": "https://localhost:8080/",
          "height": 197
        }
      },
      "source": [
        "data.head(5)"
      ],
      "execution_count": null,
      "outputs": [
        {
          "output_type": "execute_result",
          "data": {
            "text/html": [
              "<div>\n",
              "<style scoped>\n",
              "    .dataframe tbody tr th:only-of-type {\n",
              "        vertical-align: middle;\n",
              "    }\n",
              "\n",
              "    .dataframe tbody tr th {\n",
              "        vertical-align: top;\n",
              "    }\n",
              "\n",
              "    .dataframe thead th {\n",
              "        text-align: right;\n",
              "    }\n",
              "</style>\n",
              "<table border=\"1\" class=\"dataframe\">\n",
              "  <thead>\n",
              "    <tr style=\"text-align: right;\">\n",
              "      <th></th>\n",
              "      <th>Verbatim</th>\n",
              "      <th>Cat1_1st_Level</th>\n",
              "    </tr>\n",
              "  </thead>\n",
              "  <tbody>\n",
              "    <tr>\n",
              "      <th>0</th>\n",
              "      <td>It is not dependable  - I cant trust that the ...</td>\n",
              "      <td>reliability</td>\n",
              "    </tr>\n",
              "    <tr>\n",
              "      <th>1</th>\n",
              "      <td>no history to see where they drove</td>\n",
              "      <td>product features</td>\n",
              "    </tr>\n",
              "    <tr>\n",
              "      <th>2</th>\n",
              "      <td>Login page is confusing now....</td>\n",
              "      <td>usability</td>\n",
              "    </tr>\n",
              "    <tr>\n",
              "      <th>3</th>\n",
              "      <td>not user friendly</td>\n",
              "      <td>usability</td>\n",
              "    </tr>\n",
              "    <tr>\n",
              "      <th>4</th>\n",
              "      <td>Not as accurate</td>\n",
              "      <td>reliability</td>\n",
              "    </tr>\n",
              "  </tbody>\n",
              "</table>\n",
              "</div>"
            ],
            "text/plain": [
              "                                            Verbatim    Cat1_1st_Level\n",
              "0  It is not dependable  - I cant trust that the ...       reliability\n",
              "1                 no history to see where they drove  product features\n",
              "2                    Login page is confusing now....         usability\n",
              "3                                  not user friendly         usability\n",
              "4                                    Not as accurate       reliability"
            ]
          },
          "metadata": {
            "tags": []
          },
          "execution_count": 47
        }
      ]
    },
    {
      "cell_type": "code",
      "metadata": {
        "id": "B_5uRgFa3Tee"
      },
      "source": [
        "#data_lm = TextDataBunch.from_csv(path, 'data.csv') # load LM from CSV\n",
        "\n",
        "y = data['Cat1_1st_Level']\n",
        "X = data['Verbatim']\n",
        "X_train, X_test, y_train, y_test = train_test_split(X, y, test_size=0.3)\n",
        "X_train, X_test, y_train, y_test = train_test_split(X, y, test_size=0.3)\n",
        "df_train = pd.DataFrame(y_train).join(pd.DataFrame(X_train))\n",
        "df_valid = pd.DataFrame(y_test).join(pd.DataFrame(X_test))\n",
        "\n",
        "data_lm = TextDataBunch.from_df(path, train_df=df_train, valid_df=df_valid, bs=32) # load LM from DF"
      ],
      "execution_count": null,
      "outputs": []
    },
    {
      "cell_type": "code",
      "metadata": {
        "id": "CAdLP2kE7jt9"
      },
      "source": [
        "data_lm.save('data_lm')"
      ],
      "execution_count": null,
      "outputs": []
    },
    {
      "cell_type": "code",
      "metadata": {
        "id": "CLwHq0nR8CCC",
        "outputId": "4309050a-f630-45ef-d1a7-56d9e9fde5fc",
        "colab": {
          "base_uri": "https://localhost:8080/",
          "height": 35
        }
      },
      "source": [
        "ls"
      ],
      "execution_count": null,
      "outputs": [
        {
          "output_type": "stream",
          "text": [
            "data.csv  data_lm  data_save.pkl  NPS_all_comments.csv  \u001b[0m\u001b[01;34msample_data\u001b[0m/  tmp\n"
          ],
          "name": "stdout"
        }
      ]
    },
    {
      "cell_type": "markdown",
      "metadata": {
        "id": "9x0OqmbT7tjV"
      },
      "source": [
        "Next time we launch this notebook, we can skip the cell above that took a bit of time (and that will take a lot more when you get to the full dataset) and load those results like this:"
      ]
    },
    {
      "cell_type": "code",
      "metadata": {
        "id": "zlY8Xno876ZQ"
      },
      "source": [
        "#data = TextDataBunch.load(path)"
      ],
      "execution_count": null,
      "outputs": []
    },
    {
      "cell_type": "markdown",
      "metadata": {
        "id": "1uP9-gT186gJ"
      },
      "source": [
        "### Tokenization"
      ]
    },
    {
      "cell_type": "markdown",
      "metadata": {
        "id": "GEtqvGrw9Ay4"
      },
      "source": [
        "The first step of processing we make texts go through is to split the raw sentences into words, or more exactly tokens. The easist way to do this would be to split the string on spaces, but we can be smarter:\n",
        "\n",
        "\n",
        "*   we need to take care of punctuation\n",
        "*   some words are contractions of two different words, like isn't or don't\n",
        "*   we may need to clean some parts of out texts, if there's HTML code for instance\n",
        "\n",
        "To see what the tokenizer had done behind the scenes, let's have a look at a few texts in a batch\n",
        "\n"
      ]
    },
    {
      "cell_type": "code",
      "metadata": {
        "id": "iSYEg90N9rwG",
        "outputId": "6d91c218-35e0-41e7-c202-07f14d1e9209",
        "colab": {
          "base_uri": "https://localhost:8080/",
          "height": 283
        }
      },
      "source": [
        "data_lm.show_batch()"
      ],
      "execution_count": null,
      "outputs": [
        {
          "output_type": "display_data",
          "data": {
            "text/html": [
              "<table border=\"1\" class=\"dataframe\">\n",
              "  <thead>\n",
              "    <tr style=\"text-align: right;\">\n",
              "      <th>text</th>\n",
              "      <th>target</th>\n",
              "    </tr>\n",
              "  </thead>\n",
              "  <tbody>\n",
              "    <tr>\n",
              "      <td>xxbos xxmaj my first issue is i do n't believe i was properly xxunk on the features just prior to purchasing two of your road assistance packages ... xxmaj had i known what i know now , i would not have made the purchase ... i recently retired 30 years military service , just prior to my retirement i ended up in a serious accident resulting in traumatic brain injury</td>\n",
              "      <td>product features</td>\n",
              "    </tr>\n",
              "    <tr>\n",
              "      <td>xxbos xxmaj it would be better with updated google maps . a region we do a lot of work in has been developed extensively since the last update on google . xxmaj it currently just shows as a mass of trees with no streets or houses . xxmaj that presents a challenge at times . xxmaj there are also a few other kinks you need to work out or be</td>\n",
              "      <td>usability</td>\n",
              "    </tr>\n",
              "    <tr>\n",
              "      <td>xxbos xxmaj july xxunk i was in a bad accident . xxmaj within 30 seconds of the hit , i heard this voice asking me if i was in an accident and do i need the police and paramedics . within 5 minutes or less the police and paramedics we there and helping me and the other lady in her car . xxmaj th xxmaj hum lady stayed with me</td>\n",
              "      <td>product features</td>\n",
              "    </tr>\n",
              "    <tr>\n",
              "      <td>xxbos the xxup gps is xxup terrible . xxmaj does n't give turn directions in advance . xxmaj if you 're driving on a highway at 75 miles per hour , the xxup gps only gives you a one mile advance notice to make a turn . xxmaj if you 're in the left hand passing lane , that gives you 60 seconds to get into the right lane to</td>\n",
              "      <td>reliability</td>\n",
              "    </tr>\n",
              "    <tr>\n",
              "      <td>xxbos i do not appreciate embrace 's sales / marketing tactics .   xxmaj it is incredibly difficult to cancel a subscription .   xxmaj they make you give a cc when you purchase the car and then they are able to charge it whenever the subscription time is up .   i am getting emails to update a cc on a car that i sold 5 years ago .</td>\n",
              "      <td>product features</td>\n",
              "    </tr>\n",
              "  </tbody>\n",
              "</table>"
            ],
            "text/plain": [
              "<IPython.core.display.HTML object>"
            ]
          },
          "metadata": {
            "tags": []
          }
        }
      ]
    },
    {
      "cell_type": "markdown",
      "metadata": {
        "id": "gKpCltxn-HI4"
      },
      "source": [
        "### **Numericalizatio**\n",
        "\n",
        "Once we have extracted tokens from our texts, we convert to integers by creating a list of all the words used. We only keep the ones that appear at list twice with a maximum vocabulary size of 60,000 (by default) and replace the ones that don't make the cut by the unknown token ```UNK```.\n",
        "\n",
        "The correspondance from ids tokens is stored in the vocab attribute of our datasets, in a dictionary called itos\n",
        "\n"
      ]
    },
    {
      "cell_type": "code",
      "metadata": {
        "id": "d6RTvY-_9r_a",
        "outputId": "6167e946-fb69-4def-f943-6c4694f57f71",
        "colab": {
          "base_uri": "https://localhost:8080/",
          "height": 198
        }
      },
      "source": [
        "data_lm.vocab.itos[:10]"
      ],
      "execution_count": null,
      "outputs": [
        {
          "output_type": "execute_result",
          "data": {
            "text/plain": [
              "['xxunk',\n",
              " 'xxpad',\n",
              " 'xxbos',\n",
              " 'xxeos',\n",
              " 'xxfld',\n",
              " 'xxmaj',\n",
              " 'xxup',\n",
              " 'xxrep',\n",
              " 'xxwrep',\n",
              " '.']"
            ]
          },
          "metadata": {
            "tags": []
          },
          "execution_count": 53
        }
      ]
    },
    {
      "cell_type": "code",
      "metadata": {
        "id": "NW8EY1Pt9sCS",
        "outputId": "7b0cd82d-542c-4b3a-e246-f6e40fe28855",
        "colab": {
          "base_uri": "https://localhost:8080/",
          "height": 35
        }
      },
      "source": [
        "data_lm.train_ds[0][0]"
      ],
      "execution_count": null,
      "outputs": [
        {
          "output_type": "execute_result",
          "data": {
            "text/plain": [
              "Text xxbos i can track where my people are and compare it to job duration from a planning and actual and validate xxunk data for payroll purposes . xxmaj and i find many xxunk ."
            ]
          },
          "metadata": {
            "tags": []
          },
          "execution_count": 39
        }
      ]
    },
    {
      "cell_type": "code",
      "metadata": {
        "id": "AK5AWz6z-rWK",
        "outputId": "6064304e-6249-4bf1-832c-ec3660dfcce4",
        "colab": {
          "base_uri": "https://localhost:8080/",
          "height": 35
        }
      },
      "source": [
        "data_lm.train_ds[0][0].data[:10]"
      ],
      "execution_count": null,
      "outputs": [
        {
          "output_type": "execute_result",
          "data": {
            "text/plain": [
              "array([   2,   18,   66,  112,  119,   46,  218,   27,   12, 1391])"
            ]
          },
          "metadata": {
            "tags": []
          },
          "execution_count": 41
        }
      ]
    },
    {
      "cell_type": "markdown",
      "metadata": {
        "id": "oZNLkgCI_LxH"
      },
      "source": [
        "## With the data block API\n",
        "\n",
        "We can use the data block API with NLP and have a lot more flexibility than waht the default factory methods offer. In the previous example for instance, the data was randomly split between train and validation instead of reading the third column of the csv.\n",
        "\n",
        "With the data block API though, we have to manually call the tokenize and numericalize steps. This allows mre flexibility, and if you're not using the defaults from fastai, the variaous arguments to pass will appear in the step they're revelant, so it'll be more readable."
      ]
    },
    {
      "cell_type": "code",
      "metadata": {
        "outputId": "c9b8ebfa-cff1-4473-c8a6-6989b9726618",
        "id": "HQW6qeUlDSP5",
        "colab": {
          "base_uri": "https://localhost:8080/",
          "height": 197
        }
      },
      "source": [
        "#data = pd.read_csv('./NPS_all_comments.csv', header=0, encoding='utf-8')\n",
        "data = pd.read_csv('./all_verbatim_less_category.csv', header=0, encoding='utf-8')\n",
        "data.head(5)"
      ],
      "execution_count": null,
      "outputs": [
        {
          "output_type": "execute_result",
          "data": {
            "text/html": [
              "<div>\n",
              "<style scoped>\n",
              "    .dataframe tbody tr th:only-of-type {\n",
              "        vertical-align: middle;\n",
              "    }\n",
              "\n",
              "    .dataframe tbody tr th {\n",
              "        vertical-align: top;\n",
              "    }\n",
              "\n",
              "    .dataframe thead th {\n",
              "        text-align: right;\n",
              "    }\n",
              "</style>\n",
              "<table border=\"1\" class=\"dataframe\">\n",
              "  <thead>\n",
              "    <tr style=\"text-align: right;\">\n",
              "      <th></th>\n",
              "      <th>Platform</th>\n",
              "      <th>Verbatim</th>\n",
              "      <th>category</th>\n",
              "    </tr>\n",
              "  </thead>\n",
              "  <tbody>\n",
              "    <tr>\n",
              "      <th>0</th>\n",
              "      <td>1 – Reveal</td>\n",
              "      <td>Could use some upgrades</td>\n",
              "      <td>Product Features</td>\n",
              "    </tr>\n",
              "    <tr>\n",
              "      <th>1</th>\n",
              "      <td>1 – Reveal</td>\n",
              "      <td>Because your asking me to take a stupid survey...</td>\n",
              "      <td>Usability</td>\n",
              "    </tr>\n",
              "    <tr>\n",
              "      <th>2</th>\n",
              "      <td>1 – Reveal</td>\n",
              "      <td>There is no service in the Crowders Mountain a...</td>\n",
              "      <td>Reliability</td>\n",
              "    </tr>\n",
              "    <tr>\n",
              "      <th>3</th>\n",
              "      <td>1 – Reveal</td>\n",
              "      <td>tracking drivers</td>\n",
              "      <td>Reliability</td>\n",
              "    </tr>\n",
              "    <tr>\n",
              "      <th>4</th>\n",
              "      <td>1 – Reveal</td>\n",
              "      <td>- Constantly losing bluetooth connection  - Po...</td>\n",
              "      <td>Reliability</td>\n",
              "    </tr>\n",
              "  </tbody>\n",
              "</table>\n",
              "</div>"
            ],
            "text/plain": [
              "     Platform  ...          category\n",
              "0  1 – Reveal  ...  Product Features\n",
              "1  1 – Reveal  ...         Usability\n",
              "2  1 – Reveal  ...       Reliability\n",
              "3  1 – Reveal  ...       Reliability\n",
              "4  1 – Reveal  ...       Reliability\n",
              "\n",
              "[5 rows x 3 columns]"
            ]
          },
          "metadata": {
            "tags": []
          },
          "execution_count": 18
        }
      ]
    },
    {
      "cell_type": "code",
      "metadata": {
        "id": "ipqKVryu_3Jr"
      },
      "source": [
        "#data = (TextList.from_csv(path, 'NPS_all_comments.csv', col='Verbatim').split_from_df(cols=0).label_from_df(cols=2).databunch())"
      ],
      "execution_count": null,
      "outputs": []
    },
    {
      "cell_type": "code",
      "metadata": {
        "id": "4ShGR5XzDSKh"
      },
      "source": [
        ""
      ],
      "execution_count": null,
      "outputs": []
    },
    {
      "cell_type": "code",
      "metadata": {
        "id": "Btov_RW-DSFo"
      },
      "source": [
        ""
      ],
      "execution_count": null,
      "outputs": []
    },
    {
      "cell_type": "code",
      "metadata": {
        "id": "2vsvgISZDSAL"
      },
      "source": [
        ""
      ],
      "execution_count": null,
      "outputs": []
    },
    {
      "cell_type": "code",
      "metadata": {
        "id": "GRjV_IkUDP1o"
      },
      "source": [
        ""
      ],
      "execution_count": null,
      "outputs": []
    },
    {
      "cell_type": "markdown",
      "metadata": {
        "id": "gkW_jQP53Tee"
      },
      "source": [
        "## Transfer Learning Stages"
      ]
    },
    {
      "cell_type": "markdown",
      "metadata": {
        "id": "QAdWVl3y3Tee"
      },
      "source": [
        "This notebook utilizes the refactored and updated version (v1) of ULMFit as implemented in the fastai GitHub repository. This requires an install of Pytorch 1.0.0 (released on December 7, 2018) to run since its development intended to move alongside PyTorch's own development cycle in the future. It is recommended to run this entire notebook in a virtual environment to avoid clashes with pre-existing installs of PyTorch.\n",
        "\n",
        "The refactored code for ULMFit is much more high-level and abstracted than the original version that was used in the paper, so it doesn't make sense to rewrite the data manipulation code for text handling and tokenization from the ground up. We can take advantage of the powerful transfer learning functionality that is baked into ULMFit (obtained after months of fine-tuning and refactoring the source code by Fast.ai) instead!"
      ]
    },
    {
      "cell_type": "markdown",
      "metadata": {
        "id": "zrjZA2Wp3Tee"
      },
      "source": [
        "### Step1: Preprocess data for language model fine-tuning"
      ]
    },
    {
      "cell_type": "markdown",
      "metadata": {
        "id": "z8pbwQuc3Tee"
      },
      "source": [
        "The TextLMDataBunch [source] class returns a \"Databunch\" type of object that is a custom object defined in fastai.text's API. Note that according to this class definition, a significant amount of data pre-processing is going on under the hood.\n",
        "* Initialize the language model with the pre-trained vocabulary's weights\n",
        "* Create a custom data loader that \"batchifies\" the target task's vocabulary, i.e. split it up into batches for processing on the GPU\n",
        "* Introduce randomness into the batches, but without breaking up the sentence sequences using techniques borrowed from language modeling.\n",
        "* Tokenize the target task's vocabulary and increase the efficiency of tokenization (for large tasks) using multi-threading\n"
      ]
    },
    {
      "cell_type": "code",
      "metadata": {
        "id": "LWAW3wPfzsws"
      },
      "source": [
        "doc(TextLMDataBunch)"
      ],
      "execution_count": null,
      "outputs": []
    },
    {
      "cell_type": "code",
      "metadata": {
        "id": "3-uTqVjCD5gy"
      },
      "source": [
        "data = pd.read_csv('./NPS_all_comments.csv', header=0, encoding='utf-8')"
      ],
      "execution_count": null,
      "outputs": []
    },
    {
      "cell_type": "code",
      "metadata": {
        "id": "vdIF2mCQD5pB"
      },
      "source": [
        "# delete duplicate verbatim\n",
        "data.drop_duplicates(keep=False,inplace=True)"
      ],
      "execution_count": null,
      "outputs": []
    },
    {
      "cell_type": "code",
      "metadata": {
        "id": "BDVwz2uuEOxf"
      },
      "source": [
        "y = data['category'].str.lower()\n",
        "X = data['Verbatim']\n",
        "X_train, X_test, y_train, y_test = train_test_split(X, y, test_size=0.3)"
      ],
      "execution_count": null,
      "outputs": []
    },
    {
      "cell_type": "code",
      "metadata": {
        "id": "7arxJ0gbE6Y9"
      },
      "source": [
        "df_train = pd.DataFrame(y_train).join(pd.DataFrame(X_train))\n",
        "df_valid = pd.DataFrame(y_test).join(pd.DataFrame(X_test))"
      ],
      "execution_count": null,
      "outputs": []
    },
    {
      "cell_type": "code",
      "metadata": {
        "id": "A6GTeEtwE_j-",
        "outputId": "e7e38152-c740-483d-ac83-30992463e7c6",
        "colab": {
          "base_uri": "https://localhost:8080/",
          "height": 197
        }
      },
      "source": [
        "df_train.head(5)"
      ],
      "execution_count": null,
      "outputs": [
        {
          "output_type": "execute_result",
          "data": {
            "text/html": [
              "<div>\n",
              "<style scoped>\n",
              "    .dataframe tbody tr th:only-of-type {\n",
              "        vertical-align: middle;\n",
              "    }\n",
              "\n",
              "    .dataframe tbody tr th {\n",
              "        vertical-align: top;\n",
              "    }\n",
              "\n",
              "    .dataframe thead th {\n",
              "        text-align: right;\n",
              "    }\n",
              "</style>\n",
              "<table border=\"1\" class=\"dataframe\">\n",
              "  <thead>\n",
              "    <tr style=\"text-align: right;\">\n",
              "      <th></th>\n",
              "      <th>category</th>\n",
              "      <th>Verbatim</th>\n",
              "    </tr>\n",
              "  </thead>\n",
              "  <tbody>\n",
              "    <tr>\n",
              "      <th>10719</th>\n",
              "      <td>usability</td>\n",
              "      <td>Poor responses regarding critical issues.  can...</td>\n",
              "    </tr>\n",
              "    <tr>\n",
              "      <th>2972</th>\n",
              "      <td>usability</td>\n",
              "      <td>EASY SITE TO NAVIGATE</td>\n",
              "    </tr>\n",
              "    <tr>\n",
              "      <th>3323</th>\n",
              "      <td>reliability</td>\n",
              "      <td>Easy to use, good price, accurate</td>\n",
              "    </tr>\n",
              "    <tr>\n",
              "      <th>5570</th>\n",
              "      <td>reliability</td>\n",
              "      <td>half the trucks don't work</td>\n",
              "    </tr>\n",
              "    <tr>\n",
              "      <th>5596</th>\n",
              "      <td>customer service</td>\n",
              "      <td>hard to contact anyone in regards to gps not w...</td>\n",
              "    </tr>\n",
              "  </tbody>\n",
              "</table>\n",
              "</div>"
            ],
            "text/plain": [
              "               category                                           Verbatim\n",
              "10719         usability  Poor responses regarding critical issues.  can...\n",
              "2972          usability                             EASY SITE TO NAVIGATE \n",
              "3323        reliability                  Easy to use, good price, accurate\n",
              "5570        reliability                         half the trucks don't work\n",
              "5596   customer service  hard to contact anyone in regards to gps not w..."
            ]
          },
          "metadata": {
            "tags": []
          },
          "execution_count": 22
        }
      ]
    },
    {
      "cell_type": "code",
      "metadata": {
        "id": "WIpAODnFEO1B",
        "outputId": "2dbb81ad-3775-4f04-b26a-06f11429a805",
        "colab": {
          "base_uri": "https://localhost:8080/",
          "height": 197
        }
      },
      "source": [
        "df_valid.head(5)"
      ],
      "execution_count": null,
      "outputs": [
        {
          "output_type": "execute_result",
          "data": {
            "text/html": [
              "<div>\n",
              "<style scoped>\n",
              "    .dataframe tbody tr th:only-of-type {\n",
              "        vertical-align: middle;\n",
              "    }\n",
              "\n",
              "    .dataframe tbody tr th {\n",
              "        vertical-align: top;\n",
              "    }\n",
              "\n",
              "    .dataframe thead th {\n",
              "        text-align: right;\n",
              "    }\n",
              "</style>\n",
              "<table border=\"1\" class=\"dataframe\">\n",
              "  <thead>\n",
              "    <tr style=\"text-align: right;\">\n",
              "      <th></th>\n",
              "      <th>category</th>\n",
              "      <th>Verbatim</th>\n",
              "    </tr>\n",
              "  </thead>\n",
              "  <tbody>\n",
              "    <tr>\n",
              "      <th>1336</th>\n",
              "      <td>reliability</td>\n",
              "      <td>confusing...had to reset password</td>\n",
              "    </tr>\n",
              "    <tr>\n",
              "      <th>15756</th>\n",
              "      <td>usability</td>\n",
              "      <td>Very hard to use.</td>\n",
              "    </tr>\n",
              "    <tr>\n",
              "      <th>7494</th>\n",
              "      <td>product features</td>\n",
              "      <td>It is not nearly as user friendly as it could ...</td>\n",
              "    </tr>\n",
              "    <tr>\n",
              "      <th>306</th>\n",
              "      <td>reliability</td>\n",
              "      <td>Accurate information</td>\n",
              "    </tr>\n",
              "    <tr>\n",
              "      <th>4401</th>\n",
              "      <td>product features</td>\n",
              "      <td>Gives many error messages</td>\n",
              "    </tr>\n",
              "  </tbody>\n",
              "</table>\n",
              "</div>"
            ],
            "text/plain": [
              "               category                                           Verbatim\n",
              "1336        reliability                  confusing...had to reset password\n",
              "15756         usability                                  Very hard to use.\n",
              "7494   product features  It is not nearly as user friendly as it could ...\n",
              "306         reliability                               Accurate information\n",
              "4401   product features                          Gives many error messages"
            ]
          },
          "metadata": {
            "tags": []
          },
          "execution_count": 23
        }
      ]
    },
    {
      "cell_type": "code",
      "metadata": {
        "id": "97VIi8zeEOu7"
      },
      "source": [
        ""
      ],
      "execution_count": null,
      "outputs": []
    },
    {
      "cell_type": "markdown",
      "metadata": {
        "id": "xeNq48Ik3Tee"
      },
      "source": [
        "Creating a dataset from your raw texts is very simple. The library provides very easy to use API’s, depending on how our data is structured, to create a data class TextDataBunch for text processing, from_csv, from_folder,from_df refer to documentation for more details. Here we’ll use the method from_df of the TextLMDataBunch to create a language model specific data bunch:"
      ]
    },
    {
      "cell_type": "code",
      "metadata": {
        "id": "NziFs69U3Tee"
      },
      "source": [
        "data_lm = TextLMDataBunch.from_df(path, train_df=df_train, valid_df=df_valid, bs=32)"
      ],
      "execution_count": null,
      "outputs": []
    },
    {
      "cell_type": "code",
      "metadata": {
        "id": "c9RWwddpgsf1",
        "outputId": "62f36d89-1768-4032-d47b-119242fb6015",
        "colab": {
          "base_uri": "https://localhost:8080/",
          "height": 283
        }
      },
      "source": [
        "data_lm.show_batch()"
      ],
      "execution_count": null,
      "outputs": [
        {
          "output_type": "display_data",
          "data": {
            "text/html": [
              "<table border=\"1\" class=\"dataframe\">\n",
              "  <thead>\n",
              "    <tr style=\"text-align: right;\">\n",
              "      <th>idx</th>\n",
              "      <th>text</th>\n",
              "    </tr>\n",
              "  </thead>\n",
              "  <tbody>\n",
              "    <tr>\n",
              "      <td>0</td>\n",
              "      <td>have . xxbos it ties one to a single car . what if the person has 3 cars ? xxbos i do no have time for this xxbos i have not found many instances that i need the mbrace . i use my iphone for more of the needs instead of mbrace xxbos i have never used the mbrace system , therefore , i can not rate the functionality .</td>\n",
              "    </tr>\n",
              "    <tr>\n",
              "      <td>1</td>\n",
              "      <td>board computer monitoring the other features are on my phone . xxmaj the extra costs is n't worth what 's provided . i will cancel my subscription when it expires next year . xxbos i like the security of accident notification , and roadside assistance if necessary . xxbos i do n't use it much , but like insurance , it 's comforting to know you have it ! xxbos</td>\n",
              "    </tr>\n",
              "    <tr>\n",
              "      <td>2</td>\n",
              "      <td>tie into xxmaj google maps so i can see terrain , and street views xxbos ease of use xxbos xxmaj it 's like having a xxunk xxunk xxbos xxmaj easy to work with xxbos xxmaj to be able to see where the vehicle is at all times . xxbos xxmaj the map is effective and as close to real time as a tracking map can be . xxmaj the only</td>\n",
              "    </tr>\n",
              "    <tr>\n",
              "      <td>3</td>\n",
              "      <td>. xxbos it really helps ensure my familys safety . xxbos xxmaj child safety xxbos xxmaj internet connection and apps are so slow - no patience for it xxbos xxmaj simple easy accurate ! xxbos i have not had good responses when i have tried to use this service . xxbos xxmaj no one has been able to get it to work as it is supposed to on either of</td>\n",
              "    </tr>\n",
              "    <tr>\n",
              "      <td>4</td>\n",
              "      <td>work i know where i am . xxbos xxmaj have n’t used much xxbos excellent performance xxbos excellent reports xxbos xxmaj location   are   not   always   accurate   and   there   is   a   big   delay   in   driving   xxunk xxbos xxmaj hum is watching my car for me xxbos i feel much more secure knowing i have a way to stay</td>\n",
              "    </tr>\n",
              "  </tbody>\n",
              "</table>"
            ],
            "text/plain": [
              "<IPython.core.display.HTML object>"
            ]
          },
          "metadata": {
            "tags": []
          }
        }
      ]
    },
    {
      "cell_type": "markdown",
      "metadata": {
        "id": "pCJdOAbdGydW"
      },
      "source": [
        "**Vocabulary**: List of unique possible tokens is called the vocabulary. Listing below first 20 unique tokens in order of frequency:"
      ]
    },
    {
      "cell_type": "code",
      "metadata": {
        "id": "j0wza8o_GkDN",
        "outputId": "b7020302-e761-4716-ab47-e5a0730f115e",
        "colab": {
          "base_uri": "https://localhost:8080/",
          "height": 379
        }
      },
      "source": [
        "data_lm.vocab.itos[:20]"
      ],
      "execution_count": null,
      "outputs": [
        {
          "output_type": "execute_result",
          "data": {
            "text/plain": [
              "['xxunk',\n",
              " 'xxpad',\n",
              " 'xxbos',\n",
              " 'xxeos',\n",
              " 'xxfld',\n",
              " 'xxmaj',\n",
              " 'xxup',\n",
              " 'xxrep',\n",
              " 'xxwrep',\n",
              " '.',\n",
              " 'the',\n",
              " 'to',\n",
              " 'i',\n",
              " 'it',\n",
              " 'and',\n",
              " 'is',\n",
              " 'not',\n",
              " ',',\n",
              " 'a',\n",
              " 'of']"
            ]
          },
          "metadata": {
            "tags": []
          },
          "execution_count": 56
        }
      ]
    },
    {
      "cell_type": "markdown",
      "metadata": {
        "id": "Yg4Tsm9hG5b_"
      },
      "source": [
        "### **Numericalizatio**\n",
        "Once we have extracted tokens from our texts, we convert to integers by creating a list of all the words used. We only keep the ones that appear at list twice with a maximum vocabulary size of 60,000 (by default) and replace the ones that don't make the cut by the unknown token UNK."
      ]
    },
    {
      "cell_type": "code",
      "metadata": {
        "id": "8GnY6UqVgsjD",
        "outputId": "829e264d-204e-4e2d-c7c2-9035bbd863d2",
        "colab": {
          "base_uri": "https://localhost:8080/",
          "height": 35
        }
      },
      "source": [
        "data_lm.train_ds[0][0].data[:10]"
      ],
      "execution_count": null,
      "outputs": [
        {
          "output_type": "execute_result",
          "data": {
            "text/plain": [
              "array([  2,   5, 623,  12,  21,  16,  87,  13,  24,  10])"
            ]
          },
          "metadata": {
            "tags": []
          },
          "execution_count": 57
        }
      ]
    },
    {
      "cell_type": "markdown",
      "metadata": {
        "id": "qziRXGp7Gtzc"
      },
      "source": [
        "**Save and Load**: We can save the data bunch after the pre-processing is done. We can load as well whenever we need."
      ]
    },
    {
      "cell_type": "code",
      "metadata": {
        "id": "plqR1_RBGsta"
      },
      "source": [
        "data_lm.save('tmp_lm')"
      ],
      "execution_count": null,
      "outputs": []
    },
    {
      "cell_type": "code",
      "metadata": {
        "id": "JoKSRyRtjEc4"
      },
      "source": [
        ""
      ],
      "execution_count": null,
      "outputs": []
    },
    {
      "cell_type": "markdown",
      "metadata": {
        "id": "cyxfxB_X3Teu"
      },
      "source": [
        "### Step 2: Create Language Model"
      ]
    },
    {
      "cell_type": "markdown",
      "metadata": {
        "id": "cxAdrU8y3Teu"
      },
      "source": [
        "![image.png](attachment:image.png)"
      ]
    },
    {
      "cell_type": "markdown",
      "metadata": {
        "id": "eXDvXlh83Teu"
      },
      "source": [
        "We only need to run the above tokenization step once, and save the data. All the data goes to a local folder named tmp/. For a large added vocabulary, the above tokenization step can take a while, hence we save them and restart the notebook from the next cell (if we close our session).\n",
        "\n",
        "The tokenization technique used by fastai.text is quite advanced, and uses quite a few tricks to capture semantic meaning from the text. Unlike typical NLTK-type tokenization, here we are not converting the Verbatim to lowercase and removing information from the base text - that would result in a tremendous loss of information that our model could use to gather an understanding of our new task's vocabulary.\n",
        "\n",
        "Instead, a number of added tokens are applied so that minimal information is lost. A full list of all the tokenization rules used are [here](https://docs.fast.ai/text.transform.html#Rules).\n",
        "\n",
        "As an example, the xxmaj token [source](https://github.com/fastai/fastai/blob/1c5c007e10a187f4a048a3ee8137016534259768/fastai/text/transform.py#L71) indicates that there is capitalization of the word, either in part or in full. \"The\" will be tokenized as \"xxmaj the\". For words that are full capitalized, such as \"I AM SHOUTING\"; it is tokenized as \"xxup i xxup am xxup shouting\". The tokenizer uses spaCy's underlying tokens, but adds tags in a very smart way that balances capturing semantic meaning while reducing the number of overall tokens, so it is both powerful and efficient.\n",
        "\n",
        "The tokenization process described above is highly efficient, in part thanks to the power of SpaCy and also due to the multi-threading wrappers implemented by Fast.ai on top of Spacy's tokenizer. As a result, a really large language model's vocabulary (of millions of words) can also be effectively tokenized in a reasonable time.\n"
      ]
    },
    {
      "cell_type": "markdown",
      "metadata": {
        "id": "FNNSGf4A3Teu"
      },
      "source": [
        "### Define learner object for language model finetuning"
      ]
    },
    {
      "cell_type": "markdown",
      "metadata": {
        "id": "bcuXUWwn3Teu"
      },
      "source": [
        "We define a learner object that uses the tokenized language model data, that is organized into batches for the GPU, and feed it a pre-trained language model.\n",
        "\n",
        "This is the first stage of training, where we use the pre-trained language model weights and fine-tune it with the training data of IMDb movie reviews. When we create a learner, we have to pass in two things:\n",
        "\n",
        "* The data: our language model data (data_lm)\n",
        "* A pre-trained model: here, the pre-trained model is the Wikitext 103 model that will be downloaded for you from fastai.\n",
        "    \n",
        "We use the wt_103_v1 model that was refined after re-training using the more efficient fastai v1 library. The data (lstm_wt103.pth) is downloaded through an AWS-hosted link (accessed through the fastai.datasets interface), and stored locally. All the data in the language model file is numericalized and stored in a way that the learner can efficiently pick up tokens in float form. In addition to the language model, there is also an additional pickle object itos_wt103.pkl that is similar to the torchtext definition of \"integer-to-string\" - this contains the list of unique tokens in word form, so that we can map the tokens back to strings if necessary."
      ]
    },
    {
      "cell_type": "code",
      "metadata": {
        "id": "_m53qkId3Teu"
      },
      "source": [
        "learn = language_model_learner(data_lm, arch=AWD_LSTM, drop_mult=0.3)\n",
        "#learn = language_model_learner(data_lm, arch=Transformer, drop_mult=0.1)"
      ],
      "execution_count": null,
      "outputs": []
    },
    {
      "cell_type": "markdown",
      "metadata": {
        "id": "uyz5z-XO3Teu"
      },
      "source": [
        "drop_mult , a hyper-parameter ,used for regularization, sets the amount of dropout. If the model is over-fitting increase it, if under-fitting, you can decrease the number."
      ]
    },
    {
      "cell_type": "markdown",
      "metadata": {
        "id": "VrcLOCWV3Teu"
      },
      "source": [
        "### Print the structure of the language model RNN"
      ]
    },
    {
      "cell_type": "markdown",
      "metadata": {
        "id": "VNmFujiz3Teu"
      },
      "source": [
        "We can examine the architecture of the 3-layer LSTM used in ULMFit as shown below. For the language model fine-tuning, we define the embeddings based on the the target task vocabulary size. A single linear output layer is defined that updates the weights once we pass the input through the network."
      ]
    },
    {
      "cell_type": "code",
      "metadata": {
        "id": "AmH_gSsL3Teu"
      },
      "source": [
        "list(learn.model.children())"
      ],
      "execution_count": null,
      "outputs": []
    },
    {
      "cell_type": "markdown",
      "metadata": {
        "id": "JzHFm9wU3Te-"
      },
      "source": [
        "### Find the optimum learning rate"
      ]
    },
    {
      "cell_type": "markdown",
      "metadata": {
        "id": "hQbJfuFm3Te-"
      },
      "source": [
        "fastai.train [source](https://github.com/fastai/fastai/blob/050080be574cb1260462bbd03e9600e43e7a54b1/fastai/train.py#L23) provides a convenient utility to search through a range of learning rates to find the optimum one for our dataset.\n",
        "\n",
        "The idea is that our optimization function needs to use a learning rate that is an order of magnitude below the point at which the loss starts to diverge. We can quickly find this as shown below.\n",
        "\n",
        "**How to fine-tune the pre-trained model on our movie review data?** <br>\n",
        "Learning rate hyper-parameter is one of the most important parameters to train a model. Fast.ai provides a convenient utility (learn.lr_find) to search through a range of learning rates to find the optimum one for our dataset. Learning rate finder will increase the learning rate after each mini-batch. Eventually, the learning rate is too high that loss will get worse. "
      ]
    },
    {
      "cell_type": "code",
      "metadata": {
        "id": "QgRj7B3_3Te-",
        "outputId": "6e539ff7-ffb5-4ffe-eba3-6c0983400da3",
        "colab": {
          "base_uri": "https://localhost:8080/",
          "height": 302
        }
      },
      "source": [
        "learn.lr_find()\n",
        "learn.recorder.plot()"
      ],
      "execution_count": null,
      "outputs": [
        {
          "output_type": "display_data",
          "data": {
            "text/html": [
              ""
            ],
            "text/plain": [
              "<IPython.core.display.HTML object>"
            ]
          },
          "metadata": {
            "tags": []
          }
        },
        {
          "output_type": "stream",
          "text": [
            "LR Finder is complete, type {learner_name}.recorder.plot() to see the graph.\n"
          ],
          "name": "stdout"
        },
        {
          "output_type": "display_data",
          "data": {
            "image/png": "[encoded data removed]",
            "text/plain": [
              "<Figure size 432x288 with 1 Axes>"
            ]
          },
          "metadata": {
            "tags": []
          }
        }
      ]
    },
    {
      "cell_type": "code",
      "metadata": {
        "id": "VYIc7jGl3Te-"
      },
      "source": [
        "# free CUDA cache\n",
        "#torch.cuda.empty_cache()"
      ],
      "execution_count": null,
      "outputs": []
    },
    {
      "cell_type": "markdown",
      "metadata": {
        "id": "NfgCZVS33Te-"
      },
      "source": [
        "### Training the model:\n",
        "\n",
        "We start training the model with learning rate 1e-2 using fit_one_cycle."
      ]
    },
    {
      "cell_type": "code",
      "metadata": {
        "id": "0V2AtqzY1pOH"
      },
      "source": [
        "max_lr = 1e-1\n",
        "min_lr = 1e-2\n",
        "lr = slice(min_lr, max_lr)"
      ],
      "execution_count": null,
      "outputs": []
    },
    {
      "cell_type": "code",
      "metadata": {
        "id": "j--pc31w3Te-",
        "outputId": "d75c36e6-16d7-46b2-affc-2679b9be8da3",
        "colab": {
          "base_uri": "https://localhost:8080/",
          "height": 78
        }
      },
      "source": [
        "#learn.fit_one_cycle(1, 1e-47/25)\n",
        "learn.fit_one_cycle(cyc_len = 1,\n",
        "                    max_lr = 1e-2,        # learning rate\n",
        "                    div_factor = 20,    # factor to discount from max\n",
        "                    moms =(0.8, 0.7),   # momentums\n",
        "                    pct_start = 0.1     # where the peak is at\n",
        "                   )"
      ],
      "execution_count": null,
      "outputs": [
        {
          "output_type": "display_data",
          "data": {
            "text/html": [
              "<table border=\"1\" class=\"dataframe\">\n",
              "  <thead>\n",
              "    <tr style=\"text-align: left;\">\n",
              "      <th>epoch</th>\n",
              "      <th>train_loss</th>\n",
              "      <th>valid_loss</th>\n",
              "      <th>accuracy</th>\n",
              "      <th>time</th>\n",
              "    </tr>\n",
              "  </thead>\n",
              "  <tbody>\n",
              "    <tr>\n",
              "      <td>0</td>\n",
              "      <td>3.728774</td>\n",
              "      <td>3.620115</td>\n",
              "      <td>0.301572</td>\n",
              "      <td>02:05</td>\n",
              "    </tr>\n",
              "  </tbody>\n",
              "</table>"
            ],
            "text/plain": [
              "<IPython.core.display.HTML object>"
            ]
          },
          "metadata": {
            "tags": []
          }
        }
      ]
    },
    {
      "cell_type": "markdown",
      "metadata": {
        "id": "F8hVI-cjKyaC"
      },
      "source": [
        "It trained last layers and basically left most of the model exactly as it was. But what we really want is to train the whole model. Normally after we fine-tune the last layers, the next thing we do is we go unfreeze (unfreeze the whole model for training) and train the whole thing."
      ]
    },
    {
      "cell_type": "code",
      "metadata": {
        "id": "Dihiky8U2kMm"
      },
      "source": [
        "learn.save_encoder('enc_lstm')\n",
        "learn.save('model_lstm')"
      ],
      "execution_count": null,
      "outputs": []
    },
    {
      "cell_type": "markdown",
      "metadata": {
        "id": "q8vft9UB3Te-"
      },
      "source": [
        "fast.ai library uses latest techniques from deep learning research and one cycle learning is from one of the recent paper and turned out to be both more accurate and faster than any previous approach. First argument ‘1’ is number of epoch runs . We get an accuracy of 30.3% after running just one epoch.\n",
        "\n",
        "It trained last layers and basically left most of the model exactly as it was. But what we really want is to train the whole model. Normally after we fine-tune the last layers, the next thing we do is we go unfreeze (unfreeze the whole model for training) and train the whole thing."
      ]
    },
    {
      "cell_type": "code",
      "metadata": {
        "id": "eb5-Rk-B3Te-"
      },
      "source": [
        "#learn.unfreeze()\n",
        "#learn.fit_one_cycle(1, 1e-47/25)"
      ],
      "execution_count": null,
      "outputs": []
    },
    {
      "cell_type": "markdown",
      "metadata": {
        "id": "68iBjwEd3Te-"
      },
      "source": [
        "Accuracy = 0.3 means the model is guessing the next word of the verbatim correctly about a third of the time. That sounds like a pretty high number. So it’s a good sign that my language model is doing pretty well."
      ]
    },
    {
      "cell_type": "markdown",
      "metadata": {
        "id": "UFEEf6OM3Te-"
      },
      "source": [
        "### Predicting with Language Model"
      ]
    },
    {
      "cell_type": "markdown",
      "metadata": {
        "id": "qO0XhlsO3Te-"
      },
      "source": [
        "To evaluate our language model, we can now run learn.predict and pass in the start of a sentence and specify the number of words we want it to guess."
      ]
    },
    {
      "cell_type": "code",
      "metadata": {
        "id": "oadhDjzC3Te-",
        "outputId": "e1d1d930-6f74-4bfb-bdfe-997c6fa7df5e",
        "colab": {
          "base_uri": "https://localhost:8080/",
          "height": 35
        }
      },
      "source": [
        "learn.predict('Not entirely user friendly for a large corporation.', n_words=30)"
      ],
      "execution_count": null,
      "outputs": [
        {
          "output_type": "execute_result",
          "data": {
            "text/plain": [
              "\"Not entirely user friendly for a large corporation. Purpose was the job of criticism . Service logins , people , want of people on the i track the drive of the vehicle . There 's\""
            ]
          },
          "metadata": {
            "tags": []
          },
          "execution_count": 64
        }
      ]
    },
    {
      "cell_type": "markdown",
      "metadata": {
        "id": "DWWltZE-3TfN"
      },
      "source": [
        "Actual comments from our customer. Pikced up from slack channel \n",
        "```\n",
        "Why did you change the fuel import process? I use YOUR template, but now I have to change 81 rows because it doesn't import correctly.\n",
        "```\n",
        "![image.png](attachment:image.png)"
      ]
    },
    {
      "cell_type": "code",
      "metadata": {
        "id": "a2w6QA8U3TfN"
      },
      "source": [
        "learn.save_encoder('fine_enc')"
      ],
      "execution_count": null,
      "outputs": []
    },
    {
      "cell_type": "markdown",
      "metadata": {
        "id": "OEzQFkKf3TfN"
      },
      "source": [
        "### Creating the classifier"
      ]
    },
    {
      "cell_type": "markdown",
      "metadata": {
        "id": "sbr-SvIa3TfN"
      },
      "source": [
        "Now we’re ready to create our classifier. Step one, is to create a data bunch, TextClasDataBunch, passing the vocab from the language model to make sure that this data bunch is going to have exactly the same vocab. Batch size bs to be used is according to the GPU memory you have available, for a 2GB GPU around bs=5 will work fine. You can find whatever batch size fits on your card and use it accordingly."
      ]
    },
    {
      "cell_type": "code",
      "metadata": {
        "id": "AWYaTzgh3TfN"
      },
      "source": [
        "# Classifier model data\n",
        "data_clas = TextClasDataBunch.from_df('./'\n",
        "                                      ,train_df=df_train\n",
        "                                      ,valid_df=df_valid\n",
        "                                      ,vocab=data_lm.train_ds.vocab\n",
        "                                      ,bs=32)"
      ],
      "execution_count": null,
      "outputs": []
    },
    {
      "cell_type": "code",
      "metadata": {
        "id": "mh5N9PPs3TfN",
        "outputId": "e6cc4f41-2a98-4f8a-8a4c-e40e460f9d95",
        "colab": {
          "base_uri": "https://localhost:8080/",
          "height": 283
        }
      },
      "source": [
        "data_clas.show_batch()"
      ],
      "execution_count": null,
      "outputs": [
        {
          "output_type": "display_data",
          "data": {
            "text/html": [
              "<table border=\"1\" class=\"dataframe\">\n",
              "  <thead>\n",
              "    <tr style=\"text-align: right;\">\n",
              "      <th>text</th>\n",
              "      <th>target</th>\n",
              "    </tr>\n",
              "  </thead>\n",
              "  <tbody>\n",
              "    <tr>\n",
              "      <td>xxbos xxmaj my first issue is i do n't believe i was properly xxunk on the features just prior to purchasing two of your road assistance packages ... xxmaj had i known what i know now , i would not have made the purchase ... i recently retired 30 years military service , just prior to my retirement i ended up in a serious accident resulting in traumatic brain injury</td>\n",
              "      <td>product features</td>\n",
              "    </tr>\n",
              "    <tr>\n",
              "      <td>xxbos i have absolutely disappointed by the service i received from dealership management and service department : \\ \\ xxmaj two weeks ago , when my wife drove the car one of the back tiers was exploded in the middle of the street and we had to tow the car to our home because there is no spare tire available on the vehicle and also it was impossible to drive</td>\n",
              "      <td>customer support</td>\n",
              "    </tr>\n",
              "    <tr>\n",
              "      <td>xxbos xxmaj my experience with this company has been very poor . xxmaj there is a serious lack in communication . xxmaj our account manager was changed and we were nt notified , then the new manager was difficult , almost impossible to get in contact with in any manner . xxmaj that manager made several promises and never followed through on any of them . xxmaj then , that</td>\n",
              "      <td>customer success</td>\n",
              "    </tr>\n",
              "    <tr>\n",
              "      <td>xxbos xxmaj using the xxup sos button as lo - jack is a great feature and i feel more secure in knowing that i can locate my car at any time . xxmaj having the roadside assistance button reset and activated is a must so that you can easily connect with the nearest xxup mb technician . ( xxmaj although the roadside assistance number is under the visor . )</td>\n",
              "      <td>product features</td>\n",
              "    </tr>\n",
              "    <tr>\n",
              "      <td>xxbos xxmaj couple of things need clarification . xxmaj this car is driven mainly here in town and will have only a few thousand miles on it a year . xxmaj we have a 2016 xxup gle 350 which is our road car . xxmaj so , my experiences will be mainly associated with that vehicle . \\ xxmaj the people with whom i have interacted on the service have</td>\n",
              "      <td>customer support</td>\n",
              "    </tr>\n",
              "  </tbody>\n",
              "</table>"
            ],
            "text/plain": [
              "<IPython.core.display.HTML object>"
            ]
          },
          "metadata": {
            "tags": []
          }
        }
      ]
    },
    {
      "cell_type": "markdown",
      "metadata": {
        "id": "XdY7t8DC3TfN"
      },
      "source": [
        "Finally we will create a text classifier learner. Load in our pre train model, the encoding part we saved earlier ‘fine_enc’."
      ]
    },
    {
      "cell_type": "code",
      "metadata": {
        "id": "CF-CP9sj3TfN",
        "outputId": "eb744bbf-ce0b-436c-cfc6-1132b44ddba3",
        "colab": {
          "base_uri": "https://localhost:8080/",
          "height": 1000
        }
      },
      "source": [
        "# Classifier\n",
        "classifier = text_classifier_learner(data_clas, AWD_LSTM, drop_mult=0.3)\n",
        "#classifier = text_classifier_learner(data_clas, Transformer, drop_mult=0.5)\n",
        "classifier.load_encoder('fine_enc')\n",
        "#classifier.load_encoder('enc_lstm')"
      ],
      "execution_count": null,
      "outputs": [
        {
          "output_type": "execute_result",
          "data": {
            "text/plain": [
              "RNNLearner(data=TextClasDataBunch;\n",
              "\n",
              "Train: LabelList (53447 items)\n",
              "x: TextList\n",
              "xxbos xxmaj although i have not used it in the past few months , the times i used it in the past with my current and past xxmaj mercedes have been very satisfactory .,xxbos xxmaj the hum is great at telling you what is wrong with the xxmaj car . xxmaj it provided me with roadside assistance , a jump for a battery etc . a great device to have .,xxbos it ties one to a single car . what if the person has 3 cars ?,xxbos i do no have time for this,xxbos i have not found many instances that i need the mbrace . i use my iphone for more of the needs instead of mbrace\n",
              "y: CategoryList\n",
              "product features,product features,usability,usability,product features\n",
              "Path: .;\n",
              "\n",
              "Valid: LabelList (22907 items)\n",
              "x: TextList\n",
              "xxbos too many steps for the driver,xxbos length of contracts , price per xxunk,xxbos i think the hard braking is wrong . i do nt xxunk on my brakes / brake fast & get marked for it often .,xxbos xxmaj most cars have the basic service at no xxunk cost .   xxmaj very expensive entry level with very little to offer .,xxbos xxmaj really good accurate mileage and tracking system .\n",
              "y: CategoryList\n",
              "usability,contract,reliability,contract,reliability\n",
              "Path: .;\n",
              "\n",
              "Test: None, model=SequentialRNN(\n",
              "  (0): MultiBatchEncoder(\n",
              "    (module): AWD_LSTM(\n",
              "      (encoder): Embedding(7584, 400, padding_idx=1)\n",
              "      (encoder_dp): EmbeddingDropout(\n",
              "        (emb): Embedding(7584, 400, padding_idx=1)\n",
              "      )\n",
              "      (rnns): ModuleList(\n",
              "        (0): WeightDropout(\n",
              "          (module): LSTM(400, 1152, batch_first=True)\n",
              "        )\n",
              "        (1): WeightDropout(\n",
              "          (module): LSTM(1152, 1152, batch_first=True)\n",
              "        )\n",
              "        (2): WeightDropout(\n",
              "          (module): LSTM(1152, 400, batch_first=True)\n",
              "        )\n",
              "      )\n",
              "      (input_dp): RNNDropout()\n",
              "      (hidden_dps): ModuleList(\n",
              "        (0): RNNDropout()\n",
              "        (1): RNNDropout()\n",
              "        (2): RNNDropout()\n",
              "      )\n",
              "    )\n",
              "  )\n",
              "  (1): PoolingLinearClassifier(\n",
              "    (layers): Sequential(\n",
              "      (0): BatchNorm1d(1200, eps=1e-05, momentum=0.1, affine=True, track_running_stats=True)\n",
              "      (1): Dropout(p=0.12)\n",
              "      (2): Linear(in_features=1200, out_features=50, bias=True)\n",
              "      (3): ReLU(inplace)\n",
              "      (4): BatchNorm1d(50, eps=1e-05, momentum=0.1, affine=True, track_running_stats=True)\n",
              "      (5): Dropout(p=0.1)\n",
              "      (6): Linear(in_features=50, out_features=7, bias=True)\n",
              "    )\n",
              "  )\n",
              "), opt_func=functools.partial(<class 'torch.optim.adam.Adam'>, betas=(0.9, 0.99)), loss_func=FlattenedLoss of CrossEntropyLoss(), metrics=[<function accuracy at 0x7f8c3b826048>], true_wd=True, bn_wd=True, wd=0.01, train_bn=True, path=PosixPath('.'), model_dir='models', callback_fns=[functools.partial(<class 'fastai.basic_train.Recorder'>, add_time=True, silent=False)], callbacks=[RNNTrainer\n",
              "learn: RNNLearner(data=TextClasDataBunch;\n",
              "\n",
              "Train: LabelList (53447 items)\n",
              "x: TextList\n",
              "xxbos xxmaj although i have not used it in the past few months , the times i used it in the past with my current and past xxmaj mercedes have been very satisfactory .,xxbos xxmaj the hum is great at telling you what is wrong with the xxmaj car . xxmaj it provided me with roadside assistance , a jump for a battery etc . a great device to have .,xxbos it ties one to a single car . what if the person has 3 cars ?,xxbos i do no have time for this,xxbos i have not found many instances that i need the mbrace . i use my iphone for more of the needs instead of mbrace\n",
              "y: CategoryList\n",
              "product features,product features,usability,usability,product features\n",
              "Path: .;\n",
              "\n",
              "Valid: LabelList (22907 items)\n",
              "x: TextList\n",
              "xxbos too many steps for the driver,xxbos length of contracts , price per xxunk,xxbos i think the hard braking is wrong . i do nt xxunk on my brakes / brake fast & get marked for it often .,xxbos xxmaj most cars have the basic service at no xxunk cost .   xxmaj very expensive entry level with very little to offer .,xxbos xxmaj really good accurate mileage and tracking system .\n",
              "y: CategoryList\n",
              "usability,contract,reliability,contract,reliability\n",
              "Path: .;\n",
              "\n",
              "Test: None, model=SequentialRNN(\n",
              "  (0): MultiBatchEncoder(\n",
              "    (module): AWD_LSTM(\n",
              "      (encoder): Embedding(7584, 400, padding_idx=1)\n",
              "      (encoder_dp): EmbeddingDropout(\n",
              "        (emb): Embedding(7584, 400, padding_idx=1)\n",
              "      )\n",
              "      (rnns): ModuleList(\n",
              "        (0): WeightDropout(\n",
              "          (module): LSTM(400, 1152, batch_first=True)\n",
              "        )\n",
              "        (1): WeightDropout(\n",
              "          (module): LSTM(1152, 1152, batch_first=True)\n",
              "        )\n",
              "        (2): WeightDropout(\n",
              "          (module): LSTM(1152, 400, batch_first=True)\n",
              "        )\n",
              "      )\n",
              "      (input_dp): RNNDropout()\n",
              "      (hidden_dps): ModuleList(\n",
              "        (0): RNNDropout()\n",
              "        (1): RNNDropout()\n",
              "        (2): RNNDropout()\n",
              "      )\n",
              "    )\n",
              "  )\n",
              "  (1): PoolingLinearClassifier(\n",
              "    (layers): Sequential(\n",
              "      (0): BatchNorm1d(1200, eps=1e-05, momentum=0.1, affine=True, track_running_stats=True)\n",
              "      (1): Dropout(p=0.12)\n",
              "      (2): Linear(in_features=1200, out_features=50, bias=True)\n",
              "      (3): ReLU(inplace)\n",
              "      (4): BatchNorm1d(50, eps=1e-05, momentum=0.1, affine=True, track_running_stats=True)\n",
              "      (5): Dropout(p=0.1)\n",
              "      (6): Linear(in_features=50, out_features=7, bias=True)\n",
              "    )\n",
              "  )\n",
              "), opt_func=functools.partial(<class 'torch.optim.adam.Adam'>, betas=(0.9, 0.99)), loss_func=FlattenedLoss of CrossEntropyLoss(), metrics=[<function accuracy at 0x7f8c3b826048>], true_wd=True, bn_wd=True, wd=0.01, train_bn=True, path=PosixPath('.'), model_dir='models', callback_fns=[functools.partial(<class 'fastai.basic_train.Recorder'>, add_time=True, silent=False)], callbacks=[...], layer_groups=[Sequential(\n",
              "  (0): Embedding(7584, 400, padding_idx=1)\n",
              "  (1): EmbeddingDropout(\n",
              "    (emb): Embedding(7584, 400, padding_idx=1)\n",
              "  )\n",
              "), Sequential(\n",
              "  (0): WeightDropout(\n",
              "    (module): LSTM(400, 1152, batch_first=True)\n",
              "  )\n",
              "  (1): RNNDropout()\n",
              "), Sequential(\n",
              "  (0): WeightDropout(\n",
              "    (module): LSTM(1152, 1152, batch_first=True)\n",
              "  )\n",
              "  (1): RNNDropout()\n",
              "), Sequential(\n",
              "  (0): WeightDropout(\n",
              "    (module): LSTM(1152, 400, batch_first=True)\n",
              "  )\n",
              "  (1): RNNDropout()\n",
              "), Sequential(\n",
              "  (0): PoolingLinearClassifier(\n",
              "    (layers): Sequential(\n",
              "      (0): BatchNorm1d(1200, eps=1e-05, momentum=0.1, affine=True, track_running_stats=True)\n",
              "      (1): Dropout(p=0.12)\n",
              "      (2): Linear(in_features=1200, out_features=50, bias=True)\n",
              "      (3): ReLU(inplace)\n",
              "      (4): BatchNorm1d(50, eps=1e-05, momentum=0.1, affine=True, track_running_stats=True)\n",
              "      (5): Dropout(p=0.1)\n",
              "      (6): Linear(in_features=50, out_features=7, bias=True)\n",
              "    )\n",
              "  )\n",
              ")], add_time=True, silent=False, cb_fns_registered=False)\n",
              "alpha: 2.0\n",
              "beta: 1.0], layer_groups=[Sequential(\n",
              "  (0): Embedding(7584, 400, padding_idx=1)\n",
              "  (1): EmbeddingDropout(\n",
              "    (emb): Embedding(7584, 400, padding_idx=1)\n",
              "  )\n",
              "), Sequential(\n",
              "  (0): WeightDropout(\n",
              "    (module): LSTM(400, 1152, batch_first=True)\n",
              "  )\n",
              "  (1): RNNDropout()\n",
              "), Sequential(\n",
              "  (0): WeightDropout(\n",
              "    (module): LSTM(1152, 1152, batch_first=True)\n",
              "  )\n",
              "  (1): RNNDropout()\n",
              "), Sequential(\n",
              "  (0): WeightDropout(\n",
              "    (module): LSTM(1152, 400, batch_first=True)\n",
              "  )\n",
              "  (1): RNNDropout()\n",
              "), Sequential(\n",
              "  (0): PoolingLinearClassifier(\n",
              "    (layers): Sequential(\n",
              "      (0): BatchNorm1d(1200, eps=1e-05, momentum=0.1, affine=True, track_running_stats=True)\n",
              "      (1): Dropout(p=0.12)\n",
              "      (2): Linear(in_features=1200, out_features=50, bias=True)\n",
              "      (3): ReLU(inplace)\n",
              "      (4): BatchNorm1d(50, eps=1e-05, momentum=0.1, affine=True, track_running_stats=True)\n",
              "      (5): Dropout(p=0.1)\n",
              "      (6): Linear(in_features=50, out_features=7, bias=True)\n",
              "    )\n",
              "  )\n",
              ")], add_time=True, silent=False, cb_fns_registered=False)"
            ]
          },
          "metadata": {
            "tags": []
          },
          "execution_count": 68
        }
      ]
    },
    {
      "cell_type": "markdown",
      "metadata": {
        "id": "fsmvi22X3TfN"
      },
      "source": [
        "Again, we follow the same procedure to find the learning rate and train the model."
      ]
    },
    {
      "cell_type": "code",
      "metadata": {
        "id": "pCTdkaYA3TfN",
        "outputId": "bcaa024f-a4a6-48a7-b14d-1f14ca87232c",
        "colab": {
          "base_uri": "https://localhost:8080/",
          "height": 35
        }
      },
      "source": [
        "classifier.freeze()\n",
        "classifier.lr_find()"
      ],
      "execution_count": null,
      "outputs": [
        {
          "output_type": "display_data",
          "data": {
            "text/html": [
              ""
            ],
            "text/plain": [
              "<IPython.core.display.HTML object>"
            ]
          },
          "metadata": {
            "tags": []
          }
        },
        {
          "output_type": "stream",
          "text": [
            "LR Finder is complete, type {learner_name}.recorder.plot() to see the graph.\n"
          ],
          "name": "stdout"
        }
      ]
    },
    {
      "cell_type": "code",
      "metadata": {
        "id": "xlQp3JYy3TfN",
        "outputId": "b52a9b89-f77b-4f15-c609-1b213d0052f2",
        "colab": {
          "base_uri": "https://localhost:8080/",
          "height": 283
        }
      },
      "source": [
        "classifier.recorder.plot()"
      ],
      "execution_count": null,
      "outputs": [
        {
          "output_type": "display_data",
          "data": {
            "image/png": "[encoded data removed]",
            "text/plain": [
              "<Figure size 432x288 with 1 Axes>"
            ]
          },
          "metadata": {
            "tags": []
          }
        }
      ]
    },
    {
      "cell_type": "code",
      "metadata": {
        "id": "X-OkZ1LT3Tfd",
        "outputId": "e0e14f47-2fc4-42fe-be11-93b771ab459b",
        "colab": {
          "base_uri": "https://localhost:8080/",
          "height": 78
        }
      },
      "source": [
        "classifier.fit_one_cycle(1, 1e-2, moms=(0.8,0.7))"
      ],
      "execution_count": null,
      "outputs": [
        {
          "output_type": "display_data",
          "data": {
            "text/html": [
              "<table border=\"1\" class=\"dataframe\">\n",
              "  <thead>\n",
              "    <tr style=\"text-align: left;\">\n",
              "      <th>epoch</th>\n",
              "      <th>train_loss</th>\n",
              "      <th>valid_loss</th>\n",
              "      <th>accuracy</th>\n",
              "      <th>time</th>\n",
              "    </tr>\n",
              "  </thead>\n",
              "  <tbody>\n",
              "    <tr>\n",
              "      <td>0</td>\n",
              "      <td>1.060264</td>\n",
              "      <td>0.900145</td>\n",
              "      <td>0.684201</td>\n",
              "      <td>01:40</td>\n",
              "    </tr>\n",
              "  </tbody>\n",
              "</table>"
            ],
            "text/plain": [
              "<IPython.core.display.HTML object>"
            ]
          },
          "metadata": {
            "tags": []
          }
        }
      ]
    },
    {
      "cell_type": "markdown",
      "metadata": {
        "id": "tGK7d2wV3Tfd"
      },
      "source": [
        "Loss Plot: Let us plot the loss while training the model:"
      ]
    },
    {
      "cell_type": "code",
      "metadata": {
        "id": "XUuBuMpK3Tfd",
        "outputId": "6a750702-5633-4508-d027-0658f1655d10",
        "colab": {
          "base_uri": "https://localhost:8080/",
          "height": 283
        }
      },
      "source": [
        "classifier.recorder.plot_losses()"
      ],
      "execution_count": null,
      "outputs": [
        {
          "output_type": "display_data",
          "data": {
            "image/png": "[encoded data removed]",
            "text/plain": [
              "<Figure size 432x288 with 1 Axes>"
            ]
          },
          "metadata": {
            "tags": []
          }
        }
      ]
    },
    {
      "cell_type": "code",
      "metadata": {
        "id": "5u9-287o3Tfd",
        "outputId": "39e2442b-38f4-4d4b-9fbf-8678f02d8fd5",
        "colab": {
          "base_uri": "https://localhost:8080/",
          "height": 283
        }
      },
      "source": [
        "classifier.recorder.plot_lr(show_moms=True)"
      ],
      "execution_count": null,
      "outputs": [
        {
          "output_type": "display_data",
          "data": {
            "image/png": "[encoded data removed]",
            "text/plain": [
              "<Figure size 864x288 with 2 Axes>"
            ]
          },
          "metadata": {
            "tags": []
          }
        }
      ]
    },
    {
      "cell_type": "code",
      "metadata": {
        "id": "spVs-o3Q3Tfd"
      },
      "source": [
        "classifier.save('first')"
      ],
      "execution_count": null,
      "outputs": []
    },
    {
      "cell_type": "code",
      "metadata": {
        "id": "NNw2419a3Tfd",
        "outputId": "9ffb5ece-08ed-4ec4-bbf6-4f7880701055",
        "colab": {
          "base_uri": "https://localhost:8080/",
          "height": 1000
        }
      },
      "source": [
        "classifier.load('first')"
      ],
      "execution_count": null,
      "outputs": [
        {
          "output_type": "execute_result",
          "data": {
            "text/plain": [
              "RNNLearner(data=TextClasDataBunch;\n",
              "\n",
              "Train: LabelList (53447 items)\n",
              "x: TextList\n",
              "xxbos xxmaj although i have not used it in the past few months , the times i used it in the past with my current and past xxmaj mercedes have been very satisfactory .,xxbos xxmaj the hum is great at telling you what is wrong with the xxmaj car . xxmaj it provided me with roadside assistance , a jump for a battery etc . a great device to have .,xxbos it ties one to a single car . what if the person has 3 cars ?,xxbos i do no have time for this,xxbos i have not found many instances that i need the mbrace . i use my iphone for more of the needs instead of mbrace\n",
              "y: CategoryList\n",
              "product features,product features,usability,usability,product features\n",
              "Path: .;\n",
              "\n",
              "Valid: LabelList (22907 items)\n",
              "x: TextList\n",
              "xxbos too many steps for the driver,xxbos length of contracts , price per xxunk,xxbos i think the hard braking is wrong . i do nt xxunk on my brakes / brake fast & get marked for it often .,xxbos xxmaj most cars have the basic service at no xxunk cost .   xxmaj very expensive entry level with very little to offer .,xxbos xxmaj really good accurate mileage and tracking system .\n",
              "y: CategoryList\n",
              "usability,contract,reliability,contract,reliability\n",
              "Path: .;\n",
              "\n",
              "Test: None, model=SequentialRNN(\n",
              "  (0): MultiBatchEncoder(\n",
              "    (module): AWD_LSTM(\n",
              "      (encoder): Embedding(7584, 400, padding_idx=1)\n",
              "      (encoder_dp): EmbeddingDropout(\n",
              "        (emb): Embedding(7584, 400, padding_idx=1)\n",
              "      )\n",
              "      (rnns): ModuleList(\n",
              "        (0): WeightDropout(\n",
              "          (module): LSTM(400, 1152, batch_first=True)\n",
              "        )\n",
              "        (1): WeightDropout(\n",
              "          (module): LSTM(1152, 1152, batch_first=True)\n",
              "        )\n",
              "        (2): WeightDropout(\n",
              "          (module): LSTM(1152, 400, batch_first=True)\n",
              "        )\n",
              "      )\n",
              "      (input_dp): RNNDropout()\n",
              "      (hidden_dps): ModuleList(\n",
              "        (0): RNNDropout()\n",
              "        (1): RNNDropout()\n",
              "        (2): RNNDropout()\n",
              "      )\n",
              "    )\n",
              "  )\n",
              "  (1): PoolingLinearClassifier(\n",
              "    (layers): Sequential(\n",
              "      (0): BatchNorm1d(1200, eps=1e-05, momentum=0.1, affine=True, track_running_stats=True)\n",
              "      (1): Dropout(p=0.12)\n",
              "      (2): Linear(in_features=1200, out_features=50, bias=True)\n",
              "      (3): ReLU(inplace)\n",
              "      (4): BatchNorm1d(50, eps=1e-05, momentum=0.1, affine=True, track_running_stats=True)\n",
              "      (5): Dropout(p=0.1)\n",
              "      (6): Linear(in_features=50, out_features=7, bias=True)\n",
              "    )\n",
              "  )\n",
              "), opt_func=functools.partial(<class 'torch.optim.adam.Adam'>, betas=(0.9, 0.99)), loss_func=FlattenedLoss of CrossEntropyLoss(), metrics=[<function accuracy at 0x7f8c3b826048>], true_wd=True, bn_wd=True, wd=0.01, train_bn=True, path=PosixPath('.'), model_dir='models', callback_fns=[functools.partial(<class 'fastai.basic_train.Recorder'>, add_time=True, silent=False)], callbacks=[RNNTrainer\n",
              "learn: RNNLearner(data=TextClasDataBunch;\n",
              "\n",
              "Train: LabelList (53447 items)\n",
              "x: TextList\n",
              "xxbos xxmaj although i have not used it in the past few months , the times i used it in the past with my current and past xxmaj mercedes have been very satisfactory .,xxbos xxmaj the hum is great at telling you what is wrong with the xxmaj car . xxmaj it provided me with roadside assistance , a jump for a battery etc . a great device to have .,xxbos it ties one to a single car . what if the person has 3 cars ?,xxbos i do no have time for this,xxbos i have not found many instances that i need the mbrace . i use my iphone for more of the needs instead of mbrace\n",
              "y: CategoryList\n",
              "product features,product features,usability,usability,product features\n",
              "Path: .;\n",
              "\n",
              "Valid: LabelList (22907 items)\n",
              "x: TextList\n",
              "xxbos too many steps for the driver,xxbos length of contracts , price per xxunk,xxbos i think the hard braking is wrong . i do nt xxunk on my brakes / brake fast & get marked for it often .,xxbos xxmaj most cars have the basic service at no xxunk cost .   xxmaj very expensive entry level with very little to offer .,xxbos xxmaj really good accurate mileage and tracking system .\n",
              "y: CategoryList\n",
              "usability,contract,reliability,contract,reliability\n",
              "Path: .;\n",
              "\n",
              "Test: None, model=SequentialRNN(\n",
              "  (0): MultiBatchEncoder(\n",
              "    (module): AWD_LSTM(\n",
              "      (encoder): Embedding(7584, 400, padding_idx=1)\n",
              "      (encoder_dp): EmbeddingDropout(\n",
              "        (emb): Embedding(7584, 400, padding_idx=1)\n",
              "      )\n",
              "      (rnns): ModuleList(\n",
              "        (0): WeightDropout(\n",
              "          (module): LSTM(400, 1152, batch_first=True)\n",
              "        )\n",
              "        (1): WeightDropout(\n",
              "          (module): LSTM(1152, 1152, batch_first=True)\n",
              "        )\n",
              "        (2): WeightDropout(\n",
              "          (module): LSTM(1152, 400, batch_first=True)\n",
              "        )\n",
              "      )\n",
              "      (input_dp): RNNDropout()\n",
              "      (hidden_dps): ModuleList(\n",
              "        (0): RNNDropout()\n",
              "        (1): RNNDropout()\n",
              "        (2): RNNDropout()\n",
              "      )\n",
              "    )\n",
              "  )\n",
              "  (1): PoolingLinearClassifier(\n",
              "    (layers): Sequential(\n",
              "      (0): BatchNorm1d(1200, eps=1e-05, momentum=0.1, affine=True, track_running_stats=True)\n",
              "      (1): Dropout(p=0.12)\n",
              "      (2): Linear(in_features=1200, out_features=50, bias=True)\n",
              "      (3): ReLU(inplace)\n",
              "      (4): BatchNorm1d(50, eps=1e-05, momentum=0.1, affine=True, track_running_stats=True)\n",
              "      (5): Dropout(p=0.1)\n",
              "      (6): Linear(in_features=50, out_features=7, bias=True)\n",
              "    )\n",
              "  )\n",
              "), opt_func=functools.partial(<class 'torch.optim.adam.Adam'>, betas=(0.9, 0.99)), loss_func=FlattenedLoss of CrossEntropyLoss(), metrics=[<function accuracy at 0x7f8c3b826048>], true_wd=True, bn_wd=True, wd=0.01, train_bn=True, path=PosixPath('.'), model_dir='models', callback_fns=[functools.partial(<class 'fastai.basic_train.Recorder'>, add_time=True, silent=False)], callbacks=[...], layer_groups=[Sequential(\n",
              "  (0): Embedding(7584, 400, padding_idx=1)\n",
              "  (1): EmbeddingDropout(\n",
              "    (emb): Embedding(7584, 400, padding_idx=1)\n",
              "  )\n",
              "), Sequential(\n",
              "  (0): WeightDropout(\n",
              "    (module): LSTM(400, 1152, batch_first=True)\n",
              "  )\n",
              "  (1): RNNDropout()\n",
              "), Sequential(\n",
              "  (0): WeightDropout(\n",
              "    (module): LSTM(1152, 1152, batch_first=True)\n",
              "  )\n",
              "  (1): RNNDropout()\n",
              "), Sequential(\n",
              "  (0): WeightDropout(\n",
              "    (module): LSTM(1152, 400, batch_first=True)\n",
              "  )\n",
              "  (1): RNNDropout()\n",
              "), Sequential(\n",
              "  (0): PoolingLinearClassifier(\n",
              "    (layers): Sequential(\n",
              "      (0): BatchNorm1d(1200, eps=1e-05, momentum=0.1, affine=True, track_running_stats=True)\n",
              "      (1): Dropout(p=0.12)\n",
              "      (2): Linear(in_features=1200, out_features=50, bias=True)\n",
              "      (3): ReLU(inplace)\n",
              "      (4): BatchNorm1d(50, eps=1e-05, momentum=0.1, affine=True, track_running_stats=True)\n",
              "      (5): Dropout(p=0.1)\n",
              "      (6): Linear(in_features=50, out_features=7, bias=True)\n",
              "    )\n",
              "  )\n",
              ")], add_time=True, silent=False, cb_fns_registered=True)\n",
              "alpha: 2.0\n",
              "beta: 1.0], layer_groups=[Sequential(\n",
              "  (0): Embedding(7584, 400, padding_idx=1)\n",
              "  (1): EmbeddingDropout(\n",
              "    (emb): Embedding(7584, 400, padding_idx=1)\n",
              "  )\n",
              "), Sequential(\n",
              "  (0): WeightDropout(\n",
              "    (module): LSTM(400, 1152, batch_first=True)\n",
              "  )\n",
              "  (1): RNNDropout()\n",
              "), Sequential(\n",
              "  (0): WeightDropout(\n",
              "    (module): LSTM(1152, 1152, batch_first=True)\n",
              "  )\n",
              "  (1): RNNDropout()\n",
              "), Sequential(\n",
              "  (0): WeightDropout(\n",
              "    (module): LSTM(1152, 400, batch_first=True)\n",
              "  )\n",
              "  (1): RNNDropout()\n",
              "), Sequential(\n",
              "  (0): PoolingLinearClassifier(\n",
              "    (layers): Sequential(\n",
              "      (0): BatchNorm1d(1200, eps=1e-05, momentum=0.1, affine=True, track_running_stats=True)\n",
              "      (1): Dropout(p=0.12)\n",
              "      (2): Linear(in_features=1200, out_features=50, bias=True)\n",
              "      (3): ReLU(inplace)\n",
              "      (4): BatchNorm1d(50, eps=1e-05, momentum=0.1, affine=True, track_running_stats=True)\n",
              "      (5): Dropout(p=0.1)\n",
              "      (6): Linear(in_features=50, out_features=7, bias=True)\n",
              "    )\n",
              "  )\n",
              ")], add_time=True, silent=False, cb_fns_registered=True)"
            ]
          },
          "metadata": {
            "tags": []
          },
          "execution_count": 75
        }
      ]
    },
    {
      "cell_type": "markdown",
      "metadata": {
        "id": "FSOPn-y63Tfs"
      },
      "source": [
        "### Fine-Tune further\n",
        "\n",
        "To improve the accuracy further, fast.ai provides some more tricks;freeze_to. Don't unfreeze the whole thing but to unfreeze one layer at a time. The below approach works very well and gives incredible results.\n",
        "\n",
        "* unfreeze the last two layers freeze_to(-2), train it a little bit more\n",
        "* unfreeze the next layer freeze_to(-3), train it a little bit more\n",
        "* unfreeze the whole thing unfreeze(), train it a little bit more"
      ]
    },
    {
      "cell_type": "code",
      "metadata": {
        "id": "1GHNgUo55BQ-",
        "outputId": "aa4abb63-4ae9-4ce8-fafe-aada220ef41d",
        "colab": {
          "base_uri": "https://localhost:8080/",
          "height": 35
        }
      },
      "source": [
        "classifier.lr_find(start_lr=1e-05, end_lr=1e00)"
      ],
      "execution_count": null,
      "outputs": [
        {
          "output_type": "display_data",
          "data": {
            "text/html": [
              ""
            ],
            "text/plain": [
              "<IPython.core.display.HTML object>"
            ]
          },
          "metadata": {
            "tags": []
          }
        },
        {
          "output_type": "stream",
          "text": [
            "LR Finder is complete, type {learner_name}.recorder.plot() to see the graph.\n"
          ],
          "name": "stdout"
        }
      ]
    },
    {
      "cell_type": "code",
      "metadata": {
        "id": "fr-60qCw5G5_",
        "outputId": "f25ebc3c-4072-49f9-bb63-773d150e856d",
        "colab": {
          "base_uri": "https://localhost:8080/",
          "height": 283
        }
      },
      "source": [
        "classifier.recorder.plot()"
      ],
      "execution_count": null,
      "outputs": [
        {
          "output_type": "display_data",
          "data": {
            "image/png": "[encoded data removed]",
            "text/plain": [
              "<Figure size 432x288 with 1 Axes>"
            ]
          },
          "metadata": {
            "tags": []
          }
        }
      ]
    },
    {
      "cell_type": "code",
      "metadata": {
        "id": "XAde0-zk3Tfs",
        "outputId": "2e3c3c9b-df42-4e09-cfa5-7760e71a1760",
        "colab": {
          "base_uri": "https://localhost:8080/",
          "height": 78
        }
      },
      "source": [
        "classifier.freeze_to(-2)\n",
        "classifier.fit_one_cycle(1, slice(1e-2/(2.6**4),1e-2), moms=(0.8,0.7))"
      ],
      "execution_count": null,
      "outputs": [
        {
          "output_type": "display_data",
          "data": {
            "text/html": [
              "<table border=\"1\" class=\"dataframe\">\n",
              "  <thead>\n",
              "    <tr style=\"text-align: left;\">\n",
              "      <th>epoch</th>\n",
              "      <th>train_loss</th>\n",
              "      <th>valid_loss</th>\n",
              "      <th>accuracy</th>\n",
              "      <th>time</th>\n",
              "    </tr>\n",
              "  </thead>\n",
              "  <tbody>\n",
              "    <tr>\n",
              "      <td>0</td>\n",
              "      <td>0.875652</td>\n",
              "      <td>0.764603</td>\n",
              "      <td>0.732134</td>\n",
              "      <td>01:52</td>\n",
              "    </tr>\n",
              "  </tbody>\n",
              "</table>"
            ],
            "text/plain": [
              "<IPython.core.display.HTML object>"
            ]
          },
          "metadata": {
            "tags": []
          }
        }
      ]
    },
    {
      "cell_type": "code",
      "metadata": {
        "id": "Lb8rvd7t3Tfs",
        "outputId": "1d50724a-7916-4b77-a220-52b8f3732afa",
        "colab": {
          "base_uri": "https://localhost:8080/",
          "height": 283
        }
      },
      "source": [
        "classifier.recorder.plot_losses()"
      ],
      "execution_count": null,
      "outputs": [
        {
          "output_type": "display_data",
          "data": {
            "image/png": "[encoded data removed]",
            "text/plain": [
              "<Figure size 432x288 with 1 Axes>"
            ]
          },
          "metadata": {
            "tags": []
          }
        }
      ]
    },
    {
      "cell_type": "code",
      "metadata": {
        "id": "H98GFzvq3Tfs"
      },
      "source": [
        "classifier.save('second')"
      ],
      "execution_count": null,
      "outputs": []
    },
    {
      "cell_type": "code",
      "metadata": {
        "id": "6dByFoU33Tfs",
        "outputId": "c926a415-0ec5-416b-b324-5077ea1a1049",
        "colab": {
          "base_uri": "https://localhost:8080/",
          "height": 1000
        }
      },
      "source": [
        "classifier.save('second')"
      ],
      "execution_count": null,
      "outputs": [
        {
          "output_type": "execute_result",
          "data": {
            "text/plain": [
              "RNNLearner(data=TextClasDataBunch;\n",
              "\n",
              "Train: LabelList (53447 items)\n",
              "x: TextList\n",
              "xxbos xxmaj although i have not used it in the past few months , the times i used it in the past with my current and past xxmaj mercedes have been very satisfactory .,xxbos xxmaj the hum is great at telling you what is wrong with the xxmaj car . xxmaj it provided me with roadside assistance , a jump for a battery etc . a great device to have .,xxbos it ties one to a single car . what if the person has 3 cars ?,xxbos i do no have time for this,xxbos i have not found many instances that i need the mbrace . i use my iphone for more of the needs instead of mbrace\n",
              "y: CategoryList\n",
              "product features,product features,usability,usability,product features\n",
              "Path: .;\n",
              "\n",
              "Valid: LabelList (22907 items)\n",
              "x: TextList\n",
              "xxbos too many steps for the driver,xxbos length of contracts , price per xxunk,xxbos i think the hard braking is wrong . i do nt xxunk on my brakes / brake fast & get marked for it often .,xxbos xxmaj most cars have the basic service at no xxunk cost .   xxmaj very expensive entry level with very little to offer .,xxbos xxmaj really good accurate mileage and tracking system .\n",
              "y: CategoryList\n",
              "usability,contract,reliability,contract,reliability\n",
              "Path: .;\n",
              "\n",
              "Test: None, model=SequentialRNN(\n",
              "  (0): MultiBatchEncoder(\n",
              "    (module): AWD_LSTM(\n",
              "      (encoder): Embedding(7584, 400, padding_idx=1)\n",
              "      (encoder_dp): EmbeddingDropout(\n",
              "        (emb): Embedding(7584, 400, padding_idx=1)\n",
              "      )\n",
              "      (rnns): ModuleList(\n",
              "        (0): WeightDropout(\n",
              "          (module): LSTM(400, 1152, batch_first=True)\n",
              "        )\n",
              "        (1): WeightDropout(\n",
              "          (module): LSTM(1152, 1152, batch_first=True)\n",
              "        )\n",
              "        (2): WeightDropout(\n",
              "          (module): LSTM(1152, 400, batch_first=True)\n",
              "        )\n",
              "      )\n",
              "      (input_dp): RNNDropout()\n",
              "      (hidden_dps): ModuleList(\n",
              "        (0): RNNDropout()\n",
              "        (1): RNNDropout()\n",
              "        (2): RNNDropout()\n",
              "      )\n",
              "    )\n",
              "  )\n",
              "  (1): PoolingLinearClassifier(\n",
              "    (layers): Sequential(\n",
              "      (0): BatchNorm1d(1200, eps=1e-05, momentum=0.1, affine=True, track_running_stats=True)\n",
              "      (1): Dropout(p=0.12)\n",
              "      (2): Linear(in_features=1200, out_features=50, bias=True)\n",
              "      (3): ReLU(inplace)\n",
              "      (4): BatchNorm1d(50, eps=1e-05, momentum=0.1, affine=True, track_running_stats=True)\n",
              "      (5): Dropout(p=0.1)\n",
              "      (6): Linear(in_features=50, out_features=7, bias=True)\n",
              "    )\n",
              "  )\n",
              "), opt_func=functools.partial(<class 'torch.optim.adam.Adam'>, betas=(0.9, 0.99)), loss_func=FlattenedLoss of CrossEntropyLoss(), metrics=[<function accuracy at 0x7f8c3b826048>], true_wd=True, bn_wd=True, wd=0.01, train_bn=True, path=PosixPath('.'), model_dir='models', callback_fns=[functools.partial(<class 'fastai.basic_train.Recorder'>, add_time=True, silent=False)], callbacks=[RNNTrainer\n",
              "learn: RNNLearner(data=TextClasDataBunch;\n",
              "\n",
              "Train: LabelList (53447 items)\n",
              "x: TextList\n",
              "xxbos xxmaj although i have not used it in the past few months , the times i used it in the past with my current and past xxmaj mercedes have been very satisfactory .,xxbos xxmaj the hum is great at telling you what is wrong with the xxmaj car . xxmaj it provided me with roadside assistance , a jump for a battery etc . a great device to have .,xxbos it ties one to a single car . what if the person has 3 cars ?,xxbos i do no have time for this,xxbos i have not found many instances that i need the mbrace . i use my iphone for more of the needs instead of mbrace\n",
              "y: CategoryList\n",
              "product features,product features,usability,usability,product features\n",
              "Path: .;\n",
              "\n",
              "Valid: LabelList (22907 items)\n",
              "x: TextList\n",
              "xxbos too many steps for the driver,xxbos length of contracts , price per xxunk,xxbos i think the hard braking is wrong . i do nt xxunk on my brakes / brake fast & get marked for it often .,xxbos xxmaj most cars have the basic service at no xxunk cost .   xxmaj very expensive entry level with very little to offer .,xxbos xxmaj really good accurate mileage and tracking system .\n",
              "y: CategoryList\n",
              "usability,contract,reliability,contract,reliability\n",
              "Path: .;\n",
              "\n",
              "Test: None, model=SequentialRNN(\n",
              "  (0): MultiBatchEncoder(\n",
              "    (module): AWD_LSTM(\n",
              "      (encoder): Embedding(7584, 400, padding_idx=1)\n",
              "      (encoder_dp): EmbeddingDropout(\n",
              "        (emb): Embedding(7584, 400, padding_idx=1)\n",
              "      )\n",
              "      (rnns): ModuleList(\n",
              "        (0): WeightDropout(\n",
              "          (module): LSTM(400, 1152, batch_first=True)\n",
              "        )\n",
              "        (1): WeightDropout(\n",
              "          (module): LSTM(1152, 1152, batch_first=True)\n",
              "        )\n",
              "        (2): WeightDropout(\n",
              "          (module): LSTM(1152, 400, batch_first=True)\n",
              "        )\n",
              "      )\n",
              "      (input_dp): RNNDropout()\n",
              "      (hidden_dps): ModuleList(\n",
              "        (0): RNNDropout()\n",
              "        (1): RNNDropout()\n",
              "        (2): RNNDropout()\n",
              "      )\n",
              "    )\n",
              "  )\n",
              "  (1): PoolingLinearClassifier(\n",
              "    (layers): Sequential(\n",
              "      (0): BatchNorm1d(1200, eps=1e-05, momentum=0.1, affine=True, track_running_stats=True)\n",
              "      (1): Dropout(p=0.12)\n",
              "      (2): Linear(in_features=1200, out_features=50, bias=True)\n",
              "      (3): ReLU(inplace)\n",
              "      (4): BatchNorm1d(50, eps=1e-05, momentum=0.1, affine=True, track_running_stats=True)\n",
              "      (5): Dropout(p=0.1)\n",
              "      (6): Linear(in_features=50, out_features=7, bias=True)\n",
              "    )\n",
              "  )\n",
              "), opt_func=functools.partial(<class 'torch.optim.adam.Adam'>, betas=(0.9, 0.99)), loss_func=FlattenedLoss of CrossEntropyLoss(), metrics=[<function accuracy at 0x7f8c3b826048>], true_wd=True, bn_wd=True, wd=0.01, train_bn=True, path=PosixPath('.'), model_dir='models', callback_fns=[functools.partial(<class 'fastai.basic_train.Recorder'>, add_time=True, silent=False)], callbacks=[...], layer_groups=[Sequential(\n",
              "  (0): Embedding(7584, 400, padding_idx=1)\n",
              "  (1): EmbeddingDropout(\n",
              "    (emb): Embedding(7584, 400, padding_idx=1)\n",
              "  )\n",
              "), Sequential(\n",
              "  (0): WeightDropout(\n",
              "    (module): LSTM(400, 1152, batch_first=True)\n",
              "  )\n",
              "  (1): RNNDropout()\n",
              "), Sequential(\n",
              "  (0): WeightDropout(\n",
              "    (module): LSTM(1152, 1152, batch_first=True)\n",
              "  )\n",
              "  (1): RNNDropout()\n",
              "), Sequential(\n",
              "  (0): WeightDropout(\n",
              "    (module): LSTM(1152, 400, batch_first=True)\n",
              "  )\n",
              "  (1): RNNDropout()\n",
              "), Sequential(\n",
              "  (0): PoolingLinearClassifier(\n",
              "    (layers): Sequential(\n",
              "      (0): BatchNorm1d(1200, eps=1e-05, momentum=0.1, affine=True, track_running_stats=True)\n",
              "      (1): Dropout(p=0.12)\n",
              "      (2): Linear(in_features=1200, out_features=50, bias=True)\n",
              "      (3): ReLU(inplace)\n",
              "      (4): BatchNorm1d(50, eps=1e-05, momentum=0.1, affine=True, track_running_stats=True)\n",
              "      (5): Dropout(p=0.1)\n",
              "      (6): Linear(in_features=50, out_features=7, bias=True)\n",
              "    )\n",
              "  )\n",
              ")], add_time=True, silent=False, cb_fns_registered=True)\n",
              "alpha: 2.0\n",
              "beta: 1.0], layer_groups=[Sequential(\n",
              "  (0): Embedding(7584, 400, padding_idx=1)\n",
              "  (1): EmbeddingDropout(\n",
              "    (emb): Embedding(7584, 400, padding_idx=1)\n",
              "  )\n",
              "), Sequential(\n",
              "  (0): WeightDropout(\n",
              "    (module): LSTM(400, 1152, batch_first=True)\n",
              "  )\n",
              "  (1): RNNDropout()\n",
              "), Sequential(\n",
              "  (0): WeightDropout(\n",
              "    (module): LSTM(1152, 1152, batch_first=True)\n",
              "  )\n",
              "  (1): RNNDropout()\n",
              "), Sequential(\n",
              "  (0): WeightDropout(\n",
              "    (module): LSTM(1152, 400, batch_first=True)\n",
              "  )\n",
              "  (1): RNNDropout()\n",
              "), Sequential(\n",
              "  (0): PoolingLinearClassifier(\n",
              "    (layers): Sequential(\n",
              "      (0): BatchNorm1d(1200, eps=1e-05, momentum=0.1, affine=True, track_running_stats=True)\n",
              "      (1): Dropout(p=0.12)\n",
              "      (2): Linear(in_features=1200, out_features=50, bias=True)\n",
              "      (3): ReLU(inplace)\n",
              "      (4): BatchNorm1d(50, eps=1e-05, momentum=0.1, affine=True, track_running_stats=True)\n",
              "      (5): Dropout(p=0.1)\n",
              "      (6): Linear(in_features=50, out_features=7, bias=True)\n",
              "    )\n",
              "  )\n",
              ")], add_time=True, silent=False, cb_fns_registered=True)"
            ]
          },
          "metadata": {
            "tags": []
          },
          "execution_count": 81
        }
      ]
    },
    {
      "cell_type": "code",
      "metadata": {
        "id": "YXjMDU125_9Q",
        "outputId": "2634a772-0270-45df-fb22-823c814f1999",
        "colab": {
          "base_uri": "https://localhost:8080/",
          "height": 302
        }
      },
      "source": [
        "classifier.lr_find(start_lr=1e-05, end_lr=1e00)\n",
        "classifier.recorder.plot()"
      ],
      "execution_count": null,
      "outputs": [
        {
          "output_type": "display_data",
          "data": {
            "text/html": [
              ""
            ],
            "text/plain": [
              "<IPython.core.display.HTML object>"
            ]
          },
          "metadata": {
            "tags": []
          }
        },
        {
          "output_type": "stream",
          "text": [
            "LR Finder is complete, type {learner_name}.recorder.plot() to see the graph.\n"
          ],
          "name": "stdout"
        },
        {
          "output_type": "display_data",
          "data": {
            "image/png": "[encoded data removed]",
            "text/plain": [
              "<Figure size 432x288 with 1 Axes>"
            ]
          },
          "metadata": {
            "tags": []
          }
        }
      ]
    },
    {
      "cell_type": "code",
      "metadata": {
        "id": "WW2U3f6V6PLO"
      },
      "source": [
        "max_lr = 1e-16/5\n",
        "#lr = slice(1e-37/10, max_lr)"
      ],
      "execution_count": null,
      "outputs": []
    },
    {
      "cell_type": "code",
      "metadata": {
        "id": "qEAsBel73Tfs",
        "outputId": "8501347a-2f86-4cfb-aba0-8b44dd9a8b88",
        "colab": {
          "base_uri": "https://localhost:8080/",
          "height": 78
        }
      },
      "source": [
        "classifier.freeze_to(-3)\n",
        "classifier.fit_one_cycle(1, slice(5e-3/(2.6**4),5e-3), moms=(0.8,0.7))"
      ],
      "execution_count": null,
      "outputs": [
        {
          "output_type": "display_data",
          "data": {
            "text/html": [
              "<table border=\"1\" class=\"dataframe\">\n",
              "  <thead>\n",
              "    <tr style=\"text-align: left;\">\n",
              "      <th>epoch</th>\n",
              "      <th>train_loss</th>\n",
              "      <th>valid_loss</th>\n",
              "      <th>accuracy</th>\n",
              "      <th>time</th>\n",
              "    </tr>\n",
              "  </thead>\n",
              "  <tbody>\n",
              "    <tr>\n",
              "      <td>0</td>\n",
              "      <td>0.775582</td>\n",
              "      <td>0.699013</td>\n",
              "      <td>0.753132</td>\n",
              "      <td>02:52</td>\n",
              "    </tr>\n",
              "  </tbody>\n",
              "</table>"
            ],
            "text/plain": [
              "<IPython.core.display.HTML object>"
            ]
          },
          "metadata": {
            "tags": []
          }
        }
      ]
    },
    {
      "cell_type": "code",
      "metadata": {
        "id": "M8CkTT4N3Tfs"
      },
      "source": [
        "classifier.save('third')"
      ],
      "execution_count": null,
      "outputs": []
    },
    {
      "cell_type": "code",
      "metadata": {
        "id": "wAUi1eev3Tfs"
      },
      "source": [
        "classifier.load('third');"
      ],
      "execution_count": null,
      "outputs": []
    },
    {
      "cell_type": "code",
      "metadata": {
        "id": "toKtmLCt-k_K",
        "outputId": "a154e626-ea1f-4ae5-da5e-7f3f8d3aea49",
        "colab": {
          "base_uri": "https://localhost:8080/",
          "height": 302
        }
      },
      "source": [
        "classifier.lr_find(start_lr=1e-06, end_lr=1e00)\n",
        "classifier.recorder.plot()"
      ],
      "execution_count": null,
      "outputs": [
        {
          "output_type": "display_data",
          "data": {
            "text/html": [
              ""
            ],
            "text/plain": [
              "<IPython.core.display.HTML object>"
            ]
          },
          "metadata": {
            "tags": []
          }
        },
        {
          "output_type": "stream",
          "text": [
            "LR Finder is complete, type {learner_name}.recorder.plot() to see the graph.\n"
          ],
          "name": "stdout"
        },
        {
          "output_type": "display_data",
          "data": {
            "image/png": "[encoded data removed]",
            "text/plain": [
              "<Figure size 432x288 with 1 Axes>"
            ]
          },
          "metadata": {
            "tags": []
          }
        }
      ]
    },
    {
      "cell_type": "code",
      "metadata": {
        "id": "mpDWApkJ3Tfs",
        "outputId": "33528bb2-2bac-4657-ef25-a0a8860052d0",
        "colab": {
          "base_uri": "https://localhost:8080/",
          "height": 138
        }
      },
      "source": [
        "classifier.unfreeze()\n",
        "classifier.fit_one_cycle(3, slice(1e-3/(2.6**4),1e-3), moms=(0.8,0.7))"
      ],
      "execution_count": null,
      "outputs": [
        {
          "output_type": "display_data",
          "data": {
            "text/html": [
              "<table border=\"1\" class=\"dataframe\">\n",
              "  <thead>\n",
              "    <tr style=\"text-align: left;\">\n",
              "      <th>epoch</th>\n",
              "      <th>train_loss</th>\n",
              "      <th>valid_loss</th>\n",
              "      <th>accuracy</th>\n",
              "      <th>time</th>\n",
              "    </tr>\n",
              "  </thead>\n",
              "  <tbody>\n",
              "    <tr>\n",
              "      <td>0</td>\n",
              "      <td>0.680407</td>\n",
              "      <td>0.690294</td>\n",
              "      <td>0.755359</td>\n",
              "      <td>03:35</td>\n",
              "    </tr>\n",
              "    <tr>\n",
              "      <td>1</td>\n",
              "      <td>0.676751</td>\n",
              "      <td>0.683664</td>\n",
              "      <td>0.759026</td>\n",
              "      <td>04:02</td>\n",
              "    </tr>\n",
              "    <tr>\n",
              "      <td>2</td>\n",
              "      <td>0.550101</td>\n",
              "      <td>0.687051</td>\n",
              "      <td>0.759986</td>\n",
              "      <td>03:54</td>\n",
              "    </tr>\n",
              "  </tbody>\n",
              "</table>"
            ],
            "text/plain": [
              "<IPython.core.display.HTML object>"
            ]
          },
          "metadata": {
            "tags": []
          }
        }
      ]
    },
    {
      "cell_type": "code",
      "metadata": {
        "id": "sEEwRMs33Tfs"
      },
      "source": [
        "classifier.save('final')"
      ],
      "execution_count": null,
      "outputs": []
    },
    {
      "cell_type": "code",
      "metadata": {
        "id": "YPfppZCr3Tf8",
        "outputId": "c5dd4062-b678-43a7-9bfe-3067e950cbe3",
        "colab": {
          "base_uri": "https://localhost:8080/",
          "height": 283
        }
      },
      "source": [
        "classifier.show_results()"
      ],
      "execution_count": null,
      "outputs": [
        {
          "output_type": "display_data",
          "data": {
            "text/html": [
              "<table border=\"1\" class=\"dataframe\">\n",
              "  <thead>\n",
              "    <tr style=\"text-align: right;\">\n",
              "      <th>text</th>\n",
              "      <th>target</th>\n",
              "      <th>prediction</th>\n",
              "    </tr>\n",
              "  </thead>\n",
              "  <tbody>\n",
              "    <tr>\n",
              "      <td>xxbos xxmaj network xxmaj fleet is a good system to use for the most part but the reason i give the rating a 6 is because recently i ’ve contacted tech support to try and resolve the yellow xxunk issue ( on xxmaj map xxmaj xxunk ) with xxmaj pa xxmaj map unit # xxunk . xxmaj they sent me out a new xxup gps unit around xxmaj november 19</td>\n",
              "      <td>customer support</td>\n",
              "      <td>customer support</td>\n",
              "    </tr>\n",
              "    <tr>\n",
              "      <td>xxbos xxmaj posted speed limits are wrong , example : it has show 45 xxup mph speed limits , when the posted speed is 55 xxup mph . xxmaj if the vehicle is in a school zone it show the speed of the school zone even when not active , example : posted speed limit on the road is 45 xxup mph and the school zone is 20 when active</td>\n",
              "      <td>usability</td>\n",
              "      <td>reliability</td>\n",
              "    </tr>\n",
              "    <tr>\n",
              "      <td>xxbos xxmaj solid site but could use some fine tuning when it comes to xxmaj landmarks , xxmaj geofences , and xxmaj reporting . xxmaj landmarks xxmaj types : xxmaj the ability to create custom / user specific landmark types , much like you are able to do with xxmaj landmark xxmaj categories . xxmaj map xxmaj view - xxmaj the ability to view landmarks by \" xxmaj category \"</td>\n",
              "      <td>usability</td>\n",
              "      <td>product features</td>\n",
              "    </tr>\n",
              "    <tr>\n",
              "      <td>xxbos i 've used the service since i 've had it a few times , the latest was 8 / 29 / 18 . i was within 1 / 2 mile of my home and hit a bull that was in the road . i called and the call was answered but the lady that answered continued to ask if i needed xxup emts and i kept telling her no</td>\n",
              "      <td>reliability</td>\n",
              "      <td>customer support</td>\n",
              "    </tr>\n",
              "    <tr>\n",
              "      <td>xxbos xxmaj the xxmaj mbrace xxmaj smartphone app is unreliable . xxmaj it takes forever to launch . xxmaj it regularly does xxup not start my car and gives me an erroneous error saying i do n't have enough fuel or my windows are open , when the tank is xxup full and the windows are xxup up . \\ \\ xxmaj additionally , the application is lacking features which</td>\n",
              "      <td>product features</td>\n",
              "      <td>reliability</td>\n",
              "    </tr>\n",
              "  </tbody>\n",
              "</table>"
            ],
            "text/plain": [
              "<IPython.core.display.HTML object>"
            ]
          },
          "metadata": {
            "tags": []
          }
        }
      ]
    },
    {
      "cell_type": "code",
      "metadata": {
        "id": "LdK-RW4d3Tf-"
      },
      "source": [
        "from fastai.vision import *"
      ],
      "execution_count": null,
      "outputs": []
    },
    {
      "cell_type": "code",
      "metadata": {
        "id": "5Pq_ANQ03Tf_"
      },
      "source": [
        "interp = ClassificationInterpretation.from_learner(classifier)"
      ],
      "execution_count": null,
      "outputs": []
    },
    {
      "cell_type": "code",
      "metadata": {
        "id": "qVtQg4mU3TgA",
        "outputId": "99bceae2-d551-4c51-b7c8-be383dea5b87",
        "colab": {
          "base_uri": "https://localhost:8080/",
          "height": 744
        }
      },
      "source": [
        "interp.plot_confusion_matrix(figsize=(12,12), dpi=60)"
      ],
      "execution_count": null,
      "outputs": [
        {
          "output_type": "display_data",
          "data": {
            "image/png": "[encoded data removed]",
            "text/plain": [
              "<Figure size 720x720 with 1 Axes>"
            ]
          },
          "metadata": {
            "tags": []
          }
        }
      ]
    },
    {
      "cell_type": "code",
      "metadata": {
        "id": "stduilQV3TgB"
      },
      "source": [
        "pred,y,losses = classifier.get_preds(with_loss=True)"
      ],
      "execution_count": null,
      "outputs": []
    },
    {
      "cell_type": "code",
      "metadata": {
        "id": "M7QKMWkc3TgC"
      },
      "source": [
        "interp = ClassificationInterpretation(classifier, pred, y, losses)"
      ],
      "execution_count": null,
      "outputs": []
    },
    {
      "cell_type": "code",
      "metadata": {
        "id": "TnlaxAsH3TgC",
        "outputId": "ef106f57-6acd-4402-c679-37d1d1b302ff",
        "colab": {
          "base_uri": "https://localhost:8080/",
          "height": 1000
        }
      },
      "source": [
        "interp.most_confused()"
      ],
      "execution_count": null,
      "outputs": [
        {
          "output_type": "execute_result",
          "data": {
            "text/plain": [
              "[('product features', 'reliability', 204),\n",
              " ('customer support', 'customer service', 183),\n",
              " ('usability', 'reliability', 142),\n",
              " ('reliability', 'product features', 116),\n",
              " ('reliability', 'customer service', 91),\n",
              " ('reliability', 'usability', 91),\n",
              " ('performance', 'reliability', 76),\n",
              " ('customer service', 'reliability', 75),\n",
              " ('product features', 'usability', 72),\n",
              " ('customer service', 'customer support', 57),\n",
              " ('usability', 'customer service', 43),\n",
              " ('usability', 'product features', 42),\n",
              " ('product features', 'customer service', 40),\n",
              " ('customer success', 'customer service', 34),\n",
              " ('reliability', 'performance', 32),\n",
              " ('customer service', 'product features', 30),\n",
              " ('customer support', 'reliability', 26),\n",
              " ('contract', 'customer service', 21),\n",
              " ('customer service', 'usability', 20),\n",
              " ('performance', 'product features', 19),\n",
              " ('customer support', 'usability', 13),\n",
              " ('performance', 'customer service', 13),\n",
              " ('sales', 'customer service', 13),\n",
              " ('performance', 'usability', 12),\n",
              " ('contract', 'product features', 11),\n",
              " ('contract', 'reliability', 10),\n",
              " ('customer service', 'contract', 10),\n",
              " ('product features', 'performance', 9),\n",
              " ('sales', 'reliability', 9),\n",
              " ('reliability', 'customer support', 8),\n",
              " ('usability', 'performance', 7),\n",
              " ('customer service', 'sales', 6),\n",
              " ('customer success', 'usability', 6),\n",
              " ('customer support', 'product features', 6),\n",
              " ('usability', 'contract', 5),\n",
              " ('contract', 'usability', 4),\n",
              " ('customer success', 'reliability', 4),\n",
              " ('customer support', 'performance', 4),\n",
              " ('customer service', 'performance', 3),\n",
              " ('sales', 'contract', 3),\n",
              " ('sales', 'product features', 3),\n",
              " ('contract', 'performance', 2),\n",
              " ('customer service', 'customer success', 2),\n",
              " ('customer success', 'contract', 2),\n",
              " ('customer success', 'product features', 2),\n",
              " ('usability', 'customer success', 2),\n",
              " ('customer success', 'customer support', 1),\n",
              " ('customer support', 'contract', 1),\n",
              " ('customer support', 'customer success', 1),\n",
              " ('customer support', 'sales', 1),\n",
              " ('performance', 'customer support', 1),\n",
              " ('product features', 'contract', 1),\n",
              " ('product features', 'customer support', 1),\n",
              " ('reliability', 'customer success', 1),\n",
              " ('sales', 'usability', 1),\n",
              " ('usability', 'customer support', 1)]"
            ]
          },
          "metadata": {
            "tags": []
          },
          "execution_count": 66
        }
      ]
    },
    {
      "cell_type": "code",
      "metadata": {
        "id": "wb3oGSjQ3TgE",
        "outputId": "5610f78c-a8af-4674-8ba9-a609128933f3",
        "colab": {
          "base_uri": "https://localhost:8080/",
          "height": 35
        }
      },
      "source": [
        "print(2e-2,1e-3,1e-1,1e-2)"
      ],
      "execution_count": null,
      "outputs": [
        {
          "output_type": "stream",
          "text": [
            "0.02 0.001 0.1 0.01\n"
          ],
          "name": "stdout"
        }
      ]
    },
    {
      "cell_type": "code",
      "metadata": {
        "id": "ljYW2Tv23TgG",
        "outputId": "dd6099b8-e810-4f2c-d6a5-4dde8090acbe",
        "colab": {
          "base_uri": "https://localhost:8080/",
          "height": 35
        }
      },
      "source": [
        "print(1e-3/(2.6**4),1e-3)"
      ],
      "execution_count": null,
      "outputs": [
        {
          "output_type": "stream",
          "text": [
            "2.1882987290360978e-05 0.001\n"
          ],
          "name": "stdout"
        }
      ]
    },
    {
      "cell_type": "code",
      "metadata": {
        "id": "vLFdsQy8qqQt"
      },
      "source": [
        ""
      ],
      "execution_count": null,
      "outputs": []
    }
  ]
}